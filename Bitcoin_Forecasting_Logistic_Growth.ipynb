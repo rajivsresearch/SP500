{
  "nbformat": 4,
  "nbformat_minor": 0,
  "metadata": {
    "colab": {
      "name": "Bitcoin Forecasting Logistic Growth.ipynb",
      "provenance": [],
      "authorship_tag": "ABX9TyPbIIXeLGxi6h5ufSz7/cyH",
      "include_colab_link": true
    },
    "kernelspec": {
      "name": "python3",
      "display_name": "Python 3"
    }
  },
  "cells": [
    {
      "cell_type": "markdown",
      "metadata": {
        "id": "view-in-github",
        "colab_type": "text"
      },
      "source": [
        "<a href=\"https://colab.research.google.com/github/rajivsresearch/SP500/blob/master/Bitcoin_Forecasting_Logistic_Growth.ipynb\" target=\"_parent\"><img src=\"https://colab.research.google.com/assets/colab-badge.svg\" alt=\"Open In Colab\"/></a>"
      ]
    },
    {
      "cell_type": "code",
      "metadata": {
        "colab": {
          "base_uri": "https://localhost:8080/"
        },
        "id": "GHxImSenWrD1",
        "outputId": "dab4ee93-0aef-4587-f2d4-ff88f12850d0"
      },
      "source": [
        "!pip install yfinance"
      ],
      "execution_count": 1,
      "outputs": [
        {
          "output_type": "stream",
          "text": [
            "Collecting yfinance\n",
            "  Downloading https://files.pythonhosted.org/packages/7a/e8/b9d7104d3a4bf39924799067592d9e59119fcfc900a425a12e80a3123ec8/yfinance-0.1.55.tar.gz\n",
            "Requirement already satisfied: pandas>=0.24 in /usr/local/lib/python3.6/dist-packages (from yfinance) (1.1.5)\n",
            "Requirement already satisfied: numpy>=1.15 in /usr/local/lib/python3.6/dist-packages (from yfinance) (1.19.5)\n",
            "Requirement already satisfied: requests>=2.20 in /usr/local/lib/python3.6/dist-packages (from yfinance) (2.23.0)\n",
            "Requirement already satisfied: multitasking>=0.0.7 in /usr/local/lib/python3.6/dist-packages (from yfinance) (0.0.9)\n",
            "Collecting lxml>=4.5.1\n",
            "\u001b[?25l  Downloading https://files.pythonhosted.org/packages/bd/78/56a7c88a57d0d14945472535d0df9fb4bbad7d34ede658ec7961635c790e/lxml-4.6.2-cp36-cp36m-manylinux1_x86_64.whl (5.5MB)\n",
            "\u001b[K     |████████████████████████████████| 5.5MB 6.1MB/s \n",
            "\u001b[?25hRequirement already satisfied: python-dateutil>=2.7.3 in /usr/local/lib/python3.6/dist-packages (from pandas>=0.24->yfinance) (2.8.1)\n",
            "Requirement already satisfied: pytz>=2017.2 in /usr/local/lib/python3.6/dist-packages (from pandas>=0.24->yfinance) (2018.9)\n",
            "Requirement already satisfied: chardet<4,>=3.0.2 in /usr/local/lib/python3.6/dist-packages (from requests>=2.20->yfinance) (3.0.4)\n",
            "Requirement already satisfied: certifi>=2017.4.17 in /usr/local/lib/python3.6/dist-packages (from requests>=2.20->yfinance) (2020.12.5)\n",
            "Requirement already satisfied: urllib3!=1.25.0,!=1.25.1,<1.26,>=1.21.1 in /usr/local/lib/python3.6/dist-packages (from requests>=2.20->yfinance) (1.24.3)\n",
            "Requirement already satisfied: idna<3,>=2.5 in /usr/local/lib/python3.6/dist-packages (from requests>=2.20->yfinance) (2.10)\n",
            "Requirement already satisfied: six>=1.5 in /usr/local/lib/python3.6/dist-packages (from python-dateutil>=2.7.3->pandas>=0.24->yfinance) (1.15.0)\n",
            "Building wheels for collected packages: yfinance\n",
            "  Building wheel for yfinance (setup.py) ... \u001b[?25l\u001b[?25hdone\n",
            "  Created wheel for yfinance: filename=yfinance-0.1.55-py2.py3-none-any.whl size=22616 sha256=6f81280f7f3b4877d61f068c3337e9060b9854f20517eb9d37d056df2dad7c99\n",
            "  Stored in directory: /root/.cache/pip/wheels/04/98/cc/2702a4242d60bdc14f48b4557c427ded1fe92aedf257d4565c\n",
            "Successfully built yfinance\n",
            "Installing collected packages: lxml, yfinance\n",
            "  Found existing installation: lxml 4.2.6\n",
            "    Uninstalling lxml-4.2.6:\n",
            "      Successfully uninstalled lxml-4.2.6\n",
            "Successfully installed lxml-4.6.2 yfinance-0.1.55\n"
          ],
          "name": "stdout"
        }
      ]
    },
    {
      "cell_type": "code",
      "metadata": {
        "id": "pZ_ScvlcWz8z"
      },
      "source": [
        "import yfinance as yf\r\n",
        "import pandas as pd\r\n",
        "import numpy as np\r\n",
        "import matplotlib.pyplot as plt"
      ],
      "execution_count": 3,
      "outputs": []
    },
    {
      "cell_type": "code",
      "metadata": {
        "id": "jvPTc8tIcYPm"
      },
      "source": [
        "from sklearn.metrics import mean_squared_error\r\n",
        "from scipy.optimize import curve_fit\r\n",
        "from scipy.optimize import fsolve"
      ],
      "execution_count": 18,
      "outputs": []
    },
    {
      "cell_type": "code",
      "metadata": {
        "id": "5fxLkotTWz5R"
      },
      "source": [
        "def GetStockData(tickerSymbol, start, end):\r\n",
        "  #get data on this ticker\r\n",
        "  tickerData = yf.Ticker(tickerSymbol)\r\n",
        "\r\n",
        "  #get the historical prices for this ticker\r\n",
        "  tickerDf = tickerData.history(period='1d', start=start, end=end)\r\n",
        "\r\n",
        "  #see your data\r\n",
        "  return tickerDf[['Close']]"
      ],
      "execution_count": 4,
      "outputs": []
    },
    {
      "cell_type": "code",
      "metadata": {
        "id": "npK0D8DsYZIL"
      },
      "source": [
        "btc = GetStockData('BTC-USD', '2013-01-01', '2021-12-31')"
      ],
      "execution_count": 5,
      "outputs": []
    },
    {
      "cell_type": "code",
      "metadata": {
        "id": "UVc43yjdbJjE"
      },
      "source": [
        "# L =  Max Price\r\n",
        "# t0 =  Mid point\r\n",
        "#k =  Logistic Growth Rate\r\n",
        "\r\n",
        "def logistic_model(x,L,t0,k):\r\n",
        "    return L / (1. + np.exp(-k * (x - t0)))"
      ],
      "execution_count": 16,
      "outputs": []
    },
    {
      "cell_type": "code",
      "metadata": {
        "id": "B5ArhT8vgSsP"
      },
      "source": [
        "def rmse(predictions, targets):\r\n",
        "  return np.sqrt(np.mean((predictions-targets)**2))"
      ],
      "execution_count": 29,
      "outputs": []
    },
    {
      "cell_type": "code",
      "metadata": {
        "id": "I-OJGJ2LXIEe"
      },
      "source": [
        "x = np.arange(0,len(btc))\r\n",
        "x1 = np.arange(0, 6000)\r\n",
        "y = btc.values.reshape(-1)"
      ],
      "execution_count": 37,
      "outputs": []
    },
    {
      "cell_type": "code",
      "metadata": {
        "colab": {
          "base_uri": "https://localhost:8080/"
        },
        "id": "IdzeEu7rWz2X",
        "outputId": "437112c9-9c8a-429f-a5a1-68e64fa26018"
      },
      "source": [
        "L = 100000 # Max Price\r\n",
        "t0 = len(x) # Mid point\r\n",
        "#k = 0.02 # Logistic Growth Rate\r\n",
        "minrmse = 0\r\n",
        "params = []\r\n",
        "cntr = 0\r\n",
        "errdf = pd.DataFrame(columns=['L', 't0', 'k', 'rmse'])\r\n",
        "\r\n",
        "for L in range(50000,500000,10000):\r\n",
        "  for t0 in [3500]:\r\n",
        "    for k in [0.002]:\r\n",
        "      D = logistic_model(x,L,t0,k)\r\n",
        "      err = rmse(D, y)\r\n",
        "      #print('L = ', L, ', t0 = ', t0, ', k = ', k, ', RMSE = ', rmse(D, y))\r\n",
        "      errdf.loc[cntr] = [L, t0, k, err]\r\n",
        "\r\n",
        "      if cntr == 0:\r\n",
        "        minrmse = err\r\n",
        "      else:\r\n",
        "        if err < minrmse:\r\n",
        "          minrmse = err\r\n",
        "          params = [L, t0, k]\r\n",
        "\r\n",
        "      cntr = cntr + 1\r\n",
        "\r\n",
        "print('Min RMSE Params: ', params)"
      ],
      "execution_count": 76,
      "outputs": [
        {
          "output_type": "stream",
          "text": [
            "Min RMSE Params:  [250000, 3500, 0.002]\n"
          ],
          "name": "stdout"
        }
      ]
    },
    {
      "cell_type": "code",
      "metadata": {
        "colab": {
          "base_uri": "https://localhost:8080/",
          "height": 516
        },
        "id": "wqMWJG-AWzwY",
        "outputId": "33f8dbfd-ef13-4c45-8e9c-4aa07b36cc6f"
      },
      "source": [
        "plt.figure(figsize = (10,8))\r\n",
        "plt.plot(x,y,'r.')\r\n",
        "D = logistic_model(x1,params[0], params[1], params[2])\r\n",
        "plt.plot(x1,D, alpha=0.5)\r\n",
        "plt.title('Bitcoin Top')"
      ],
      "execution_count": 77,
      "outputs": [
        {
          "output_type": "execute_result",
          "data": {
            "text/plain": [
              "Text(0.5, 1.0, 'Bitcoin Top')"
            ]
          },
          "metadata": {
            "tags": []
          },
          "execution_count": 77
        },
        {
          "output_type": "display_data",
          "data": {
            "image/png": "[encoded data removed]",
            "text/plain": [
              "<Figure size 720x576 with 1 Axes>"
            ]
          },
          "metadata": {
            "tags": [],
            "needs_background": "light"
          }
        }
      ]
    },
    {
      "cell_type": "code",
      "metadata": {
        "colab": {
          "base_uri": "https://localhost:8080/",
          "height": 343
        },
        "id": "A4oJk9HinQr7",
        "outputId": "f8078d39-a578-4488-8c29-7912a68eff9b"
      },
      "source": [
        "errdf.sort_values(by='rmse').head(10)"
      ],
      "execution_count": 78,
      "outputs": [
        {
          "output_type": "execute_result",
          "data": {
            "text/html": [
              "<div>\n",
              "<style scoped>\n",
              "    .dataframe tbody tr th:only-of-type {\n",
              "        vertical-align: middle;\n",
              "    }\n",
              "\n",
              "    .dataframe tbody tr th {\n",
              "        vertical-align: top;\n",
              "    }\n",
              "\n",
              "    .dataframe thead th {\n",
              "        text-align: right;\n",
              "    }\n",
              "</style>\n",
              "<table border=\"1\" class=\"dataframe\">\n",
              "  <thead>\n",
              "    <tr style=\"text-align: right;\">\n",
              "      <th></th>\n",
              "      <th>L</th>\n",
              "      <th>t0</th>\n",
              "      <th>k</th>\n",
              "      <th>rmse</th>\n",
              "    </tr>\n",
              "  </thead>\n",
              "  <tbody>\n",
              "    <tr>\n",
              "      <th>20</th>\n",
              "      <td>250000.0</td>\n",
              "      <td>3500.0</td>\n",
              "      <td>0.002</td>\n",
              "      <td>3924.761620</td>\n",
              "    </tr>\n",
              "    <tr>\n",
              "      <th>19</th>\n",
              "      <td>240000.0</td>\n",
              "      <td>3500.0</td>\n",
              "      <td>0.002</td>\n",
              "      <td>3936.185140</td>\n",
              "    </tr>\n",
              "    <tr>\n",
              "      <th>21</th>\n",
              "      <td>260000.0</td>\n",
              "      <td>3500.0</td>\n",
              "      <td>0.002</td>\n",
              "      <td>3936.218159</td>\n",
              "    </tr>\n",
              "    <tr>\n",
              "      <th>18</th>\n",
              "      <td>230000.0</td>\n",
              "      <td>3500.0</td>\n",
              "      <td>0.002</td>\n",
              "      <td>3970.291231</td>\n",
              "    </tr>\n",
              "    <tr>\n",
              "      <th>22</th>\n",
              "      <td>270000.0</td>\n",
              "      <td>3500.0</td>\n",
              "      <td>0.002</td>\n",
              "      <td>3970.356701</td>\n",
              "    </tr>\n",
              "    <tr>\n",
              "      <th>17</th>\n",
              "      <td>220000.0</td>\n",
              "      <td>3500.0</td>\n",
              "      <td>0.002</td>\n",
              "      <td>4026.503542</td>\n",
              "    </tr>\n",
              "    <tr>\n",
              "      <th>23</th>\n",
              "      <td>280000.0</td>\n",
              "      <td>3500.0</td>\n",
              "      <td>0.002</td>\n",
              "      <td>4026.600375</td>\n",
              "    </tr>\n",
              "    <tr>\n",
              "      <th>16</th>\n",
              "      <td>210000.0</td>\n",
              "      <td>3500.0</td>\n",
              "      <td>0.002</td>\n",
              "      <td>4103.913790</td>\n",
              "    </tr>\n",
              "    <tr>\n",
              "      <th>24</th>\n",
              "      <td>290000.0</td>\n",
              "      <td>3500.0</td>\n",
              "      <td>0.002</td>\n",
              "      <td>4104.040465</td>\n",
              "    </tr>\n",
              "    <tr>\n",
              "      <th>15</th>\n",
              "      <td>200000.0</td>\n",
              "      <td>3500.0</td>\n",
              "      <td>0.002</td>\n",
              "      <td>4201.350418</td>\n",
              "    </tr>\n",
              "  </tbody>\n",
              "</table>\n",
              "</div>"
            ],
            "text/plain": [
              "           L      t0      k         rmse\n",
              "20  250000.0  3500.0  0.002  3924.761620\n",
              "19  240000.0  3500.0  0.002  3936.185140\n",
              "21  260000.0  3500.0  0.002  3936.218159\n",
              "18  230000.0  3500.0  0.002  3970.291231\n",
              "22  270000.0  3500.0  0.002  3970.356701\n",
              "17  220000.0  3500.0  0.002  4026.503542\n",
              "23  280000.0  3500.0  0.002  4026.600375\n",
              "16  210000.0  3500.0  0.002  4103.913790\n",
              "24  290000.0  3500.0  0.002  4104.040465\n",
              "15  200000.0  3500.0  0.002  4201.350418"
            ]
          },
          "metadata": {
            "tags": []
          },
          "execution_count": 78
        }
      ]
    },
    {
      "cell_type": "code",
      "metadata": {
        "id": "TB6m84i8pyOA"
      },
      "source": [
        "newerrdf = errdf.sort_values(by='rmse').reset_index(drop=True)"
      ],
      "execution_count": 79,
      "outputs": []
    },
    {
      "cell_type": "code",
      "metadata": {
        "colab": {
          "base_uri": "https://localhost:8080/",
          "height": 570
        },
        "id": "qPtsCIcPqXTm",
        "outputId": "13adf671-cd84-485c-d73c-39fcecaeb7fb"
      },
      "source": [
        "f1 = newerrdf['rmse']<4000\r\n",
        "\r\n",
        "plt.subplots(2,2, figsize=(12,8))\r\n",
        "plt.suptitle('Parameter Analysis')\r\n",
        "plt.subplot(2,2,1)\r\n",
        "plt.title('RMSE')\r\n",
        "newerrdf.loc[f1,'rmse'].plot()\r\n",
        "plt.subplot(2,2,2)\r\n",
        "plt.title('L')\r\n",
        "newerrdf.loc[f1,'L'].hist()\r\n",
        "plt.subplot(2,2,3)\r\n",
        "plt.title('t0')\r\n",
        "newerrdf.loc[f1,'t0'].hist()\r\n",
        "plt.subplot(2,2,4)\r\n",
        "plt.title('k')\r\n",
        "newerrdf.loc[f1,'k'].hist(bins=np.arange(0.0,0.01,0.001))"
      ],
      "execution_count": 80,
      "outputs": [
        {
          "output_type": "execute_result",
          "data": {
            "text/plain": [
              "<matplotlib.axes._subplots.AxesSubplot at 0x7f543fa937f0>"
            ]
          },
          "metadata": {
            "tags": []
          },
          "execution_count": 80
        },
        {
          "output_type": "display_data",
          "data": {
            "image/png": "[encoded data removed]",
            "text/plain": [
              "<Figure size 864x576 with 4 Axes>"
            ]
          },
          "metadata": {
            "tags": [],
            "needs_background": "light"
          }
        }
      ]
    },
    {
      "cell_type": "code",
      "metadata": {
        "colab": {
          "base_uri": "https://localhost:8080/",
          "height": 284
        },
        "id": "-LigoIaRqoUa",
        "outputId": "781dfad3-0eb4-44ee-cb75-257ada0e1155"
      },
      "source": [
        "newerrdf.loc[f1,:].describe()"
      ],
      "execution_count": 81,
      "outputs": [
        {
          "output_type": "execute_result",
          "data": {
            "text/html": [
              "<div>\n",
              "<style scoped>\n",
              "    .dataframe tbody tr th:only-of-type {\n",
              "        vertical-align: middle;\n",
              "    }\n",
              "\n",
              "    .dataframe tbody tr th {\n",
              "        vertical-align: top;\n",
              "    }\n",
              "\n",
              "    .dataframe thead th {\n",
              "        text-align: right;\n",
              "    }\n",
              "</style>\n",
              "<table border=\"1\" class=\"dataframe\">\n",
              "  <thead>\n",
              "    <tr style=\"text-align: right;\">\n",
              "      <th></th>\n",
              "      <th>L</th>\n",
              "      <th>t0</th>\n",
              "      <th>k</th>\n",
              "      <th>rmse</th>\n",
              "    </tr>\n",
              "  </thead>\n",
              "  <tbody>\n",
              "    <tr>\n",
              "      <th>count</th>\n",
              "      <td>5.000000</td>\n",
              "      <td>5.0</td>\n",
              "      <td>5.000</td>\n",
              "      <td>5.000000</td>\n",
              "    </tr>\n",
              "    <tr>\n",
              "      <th>mean</th>\n",
              "      <td>250000.000000</td>\n",
              "      <td>3500.0</td>\n",
              "      <td>0.002</td>\n",
              "      <td>3947.562570</td>\n",
              "    </tr>\n",
              "    <tr>\n",
              "      <th>std</th>\n",
              "      <td>15811.388301</td>\n",
              "      <td>0.0</td>\n",
              "      <td>0.000</td>\n",
              "      <td>21.296651</td>\n",
              "    </tr>\n",
              "    <tr>\n",
              "      <th>min</th>\n",
              "      <td>230000.000000</td>\n",
              "      <td>3500.0</td>\n",
              "      <td>0.002</td>\n",
              "      <td>3924.761620</td>\n",
              "    </tr>\n",
              "    <tr>\n",
              "      <th>25%</th>\n",
              "      <td>240000.000000</td>\n",
              "      <td>3500.0</td>\n",
              "      <td>0.002</td>\n",
              "      <td>3936.185140</td>\n",
              "    </tr>\n",
              "    <tr>\n",
              "      <th>50%</th>\n",
              "      <td>250000.000000</td>\n",
              "      <td>3500.0</td>\n",
              "      <td>0.002</td>\n",
              "      <td>3936.218159</td>\n",
              "    </tr>\n",
              "    <tr>\n",
              "      <th>75%</th>\n",
              "      <td>260000.000000</td>\n",
              "      <td>3500.0</td>\n",
              "      <td>0.002</td>\n",
              "      <td>3970.291231</td>\n",
              "    </tr>\n",
              "    <tr>\n",
              "      <th>max</th>\n",
              "      <td>270000.000000</td>\n",
              "      <td>3500.0</td>\n",
              "      <td>0.002</td>\n",
              "      <td>3970.356701</td>\n",
              "    </tr>\n",
              "  </tbody>\n",
              "</table>\n",
              "</div>"
            ],
            "text/plain": [
              "                   L      t0      k         rmse\n",
              "count       5.000000     5.0  5.000     5.000000\n",
              "mean   250000.000000  3500.0  0.002  3947.562570\n",
              "std     15811.388301     0.0  0.000    21.296651\n",
              "min    230000.000000  3500.0  0.002  3924.761620\n",
              "25%    240000.000000  3500.0  0.002  3936.185140\n",
              "50%    250000.000000  3500.0  0.002  3936.218159\n",
              "75%    260000.000000  3500.0  0.002  3970.291231\n",
              "max    270000.000000  3500.0  0.002  3970.356701"
            ]
          },
          "metadata": {
            "tags": []
          },
          "execution_count": 81
        }
      ]
    }
  ]
}