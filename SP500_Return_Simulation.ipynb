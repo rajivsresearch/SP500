{
  "nbformat": 4,
  "nbformat_minor": 0,
  "metadata": {
    "colab": {
      "name": "SP500 Return Simulation.ipynb",
      "provenance": [],
      "mount_file_id": "13lXZI5Qo6I2t6Zry0M6tu5V1HA8XwU1z",
      "authorship_tag": "ABX9TyOiZRG1SSzMM7x2aok8LwSr",
      "include_colab_link": true
    },
    "kernelspec": {
      "name": "python3",
      "display_name": "Python 3"
    }
  },
  "cells": [
    {
      "cell_type": "markdown",
      "metadata": {
        "id": "view-in-github",
        "colab_type": "text"
      },
      "source": [
        "<a href=\"https://colab.research.google.com/github/rajivsresearch/SP500/blob/master/SP500_Return_Simulation.ipynb\" target=\"_parent\"><img src=\"https://colab.research.google.com/assets/colab-badge.svg\" alt=\"Open In Colab\"/></a>"
      ]
    },
    {
      "cell_type": "markdown",
      "metadata": {
        "id": "TaIoIp-B_Bj2",
        "colab_type": "text"
      },
      "source": [
        "# S&P 500 Return Simulation"
      ]
    },
    {
      "cell_type": "markdown",
      "metadata": {
        "id": "ZTcoVDmj_QXL",
        "colab_type": "text"
      },
      "source": [
        "This notebook will simulate the returns from S&P 500 for an investment made in 5 installments between a start and end date and the date when the return is calculated. \n",
        "For instance what is the distribution of retuns if the investments were made randomly in 5 installments between Jan. 1, 2017 and Dec. 31, 2017, on June 1, 2018?"
      ]
    },
    {
      "cell_type": "code",
      "metadata": {
        "id": "aQ1qmTaJz1wF",
        "colab_type": "code",
        "colab": {
          "base_uri": "https://localhost:8080/",
          "height": 72
        },
        "outputId": "8dddb141-5ded-4da4-abe3-cbed6653553d"
      },
      "source": [
        "import pandas as pd\n",
        "import matplotlib.pyplot as plt\n",
        "import seaborn as sns\n",
        "import numpy as np\n",
        "import datetime as dt"
      ],
      "execution_count": 1,
      "outputs": [
        {
          "output_type": "stream",
          "text": [
            "/usr/local/lib/python3.6/dist-packages/statsmodels/tools/_testing.py:19: FutureWarning: pandas.util.testing is deprecated. Use the functions in the public API at pandas.testing instead.\n",
            "  import pandas.util.testing as tm\n"
          ],
          "name": "stderr"
        }
      ]
    },
    {
      "cell_type": "markdown",
      "metadata": {
        "id": "cP91CYiVAJUt",
        "colab_type": "text"
      },
      "source": [
        "My SP500 data is in 3 datasets that I downloaded from various sources including Yahoo Finance."
      ]
    },
    {
      "cell_type": "code",
      "metadata": {
        "id": "4K4aVExa0XXn",
        "colab_type": "code",
        "colab": {}
      },
      "source": [
        "sp1 = pd.read_csv('drive/My Drive/Data/SP5001.csv')\n",
        "sp2 = pd.read_csv('drive/My Drive/Data/SP5002.csv')\n",
        "sp3 = pd.read_csv('drive/My Drive/Data/SP5003.csv')"
      ],
      "execution_count": 0,
      "outputs": []
    },
    {
      "cell_type": "markdown",
      "metadata": {
        "id": "7J75wpJVF0dO",
        "colab_type": "text"
      },
      "source": [
        "Concatenate the 3 dataframes to a single dataframe"
      ]
    },
    {
      "cell_type": "code",
      "metadata": {
        "id": "Ub53SY8t0ltB",
        "colab_type": "code",
        "colab": {}
      },
      "source": [
        "sp = pd.concat([sp1, sp2, sp3])"
      ],
      "execution_count": 0,
      "outputs": []
    },
    {
      "cell_type": "markdown",
      "metadata": {
        "id": "MHwrfF8kF_Wq",
        "colab_type": "text"
      },
      "source": [
        "We are concerned with the Date and the Adjusted Close, all other columns can be dropped"
      ]
    },
    {
      "cell_type": "code",
      "metadata": {
        "id": "O1QSn5i21F25",
        "colab_type": "code",
        "colab": {}
      },
      "source": [
        "sp = sp.drop(['Open', 'High', 'Low', 'Close', 'Volume'], axis=1)"
      ],
      "execution_count": 0,
      "outputs": []
    },
    {
      "cell_type": "markdown",
      "metadata": {
        "id": "E_jnVFF8GJrM",
        "colab_type": "text"
      },
      "source": [
        "Convert Date to Datetime"
      ]
    },
    {
      "cell_type": "code",
      "metadata": {
        "id": "oDhUkrAR1id1",
        "colab_type": "code",
        "colab": {}
      },
      "source": [
        "sp['Date'] = pd.to_datetime(sp['Date'])"
      ],
      "execution_count": 0,
      "outputs": []
    },
    {
      "cell_type": "markdown",
      "metadata": {
        "id": "nnXc9oD6HFTS",
        "colab_type": "text"
      },
      "source": [
        "Sort the dataframe by Date"
      ]
    },
    {
      "cell_type": "code",
      "metadata": {
        "id": "o3HIRs0R1xBz",
        "colab_type": "code",
        "colab": {}
      },
      "source": [
        "sp = sp.sort_values(by='Date').reset_index(drop=True)"
      ],
      "execution_count": 0,
      "outputs": []
    },
    {
      "cell_type": "markdown",
      "metadata": {
        "id": "GBSgFHkCHD-J",
        "colab_type": "text"
      },
      "source": [
        "Inspect the results of the various transformations"
      ]
    },
    {
      "cell_type": "code",
      "metadata": {
        "id": "vyCPPfkL03Uv",
        "colab_type": "code",
        "colab": {
          "base_uri": "https://localhost:8080/",
          "height": 202
        },
        "outputId": "9c4d1c21-6bb8-4ca7-c063-0d4cfc3afd10"
      },
      "source": [
        "sp.head()"
      ],
      "execution_count": 10,
      "outputs": [
        {
          "output_type": "execute_result",
          "data": {
            "text/html": [
              "<div>\n",
              "<style scoped>\n",
              "    .dataframe tbody tr th:only-of-type {\n",
              "        vertical-align: middle;\n",
              "    }\n",
              "\n",
              "    .dataframe tbody tr th {\n",
              "        vertical-align: top;\n",
              "    }\n",
              "\n",
              "    .dataframe thead th {\n",
              "        text-align: right;\n",
              "    }\n",
              "</style>\n",
              "<table border=\"1\" class=\"dataframe\">\n",
              "  <thead>\n",
              "    <tr style=\"text-align: right;\">\n",
              "      <th></th>\n",
              "      <th>Date</th>\n",
              "      <th>Adj Close</th>\n",
              "    </tr>\n",
              "  </thead>\n",
              "  <tbody>\n",
              "    <tr>\n",
              "      <th>0</th>\n",
              "      <td>2017-03-24</td>\n",
              "      <td>2343.979980</td>\n",
              "    </tr>\n",
              "    <tr>\n",
              "      <th>1</th>\n",
              "      <td>2017-03-23</td>\n",
              "      <td>2345.959961</td>\n",
              "    </tr>\n",
              "    <tr>\n",
              "      <th>2</th>\n",
              "      <td>2017-03-22</td>\n",
              "      <td>2348.449951</td>\n",
              "    </tr>\n",
              "    <tr>\n",
              "      <th>3</th>\n",
              "      <td>2017-03-21</td>\n",
              "      <td>2344.020020</td>\n",
              "    </tr>\n",
              "    <tr>\n",
              "      <th>4</th>\n",
              "      <td>2017-03-20</td>\n",
              "      <td>2373.469971</td>\n",
              "    </tr>\n",
              "  </tbody>\n",
              "</table>\n",
              "</div>"
            ],
            "text/plain": [
              "         Date    Adj Close\n",
              "0  2017-03-24  2343.979980\n",
              "1  2017-03-23  2345.959961\n",
              "2  2017-03-22  2348.449951\n",
              "3  2017-03-21  2344.020020\n",
              "4  2017-03-20  2373.469971"
            ]
          },
          "metadata": {
            "tags": []
          },
          "execution_count": 10
        }
      ]
    },
    {
      "cell_type": "code",
      "metadata": {
        "id": "Q2fIXNwC0-o5",
        "colab_type": "code",
        "colab": {
          "base_uri": "https://localhost:8080/",
          "height": 173
        },
        "outputId": "7e36d842-2810-4019-d173-1302e8aee021"
      },
      "source": [
        "sp.info()"
      ],
      "execution_count": 17,
      "outputs": [
        {
          "output_type": "stream",
          "text": [
            "<class 'pandas.core.frame.DataFrame'>\n",
            "RangeIndex: 15429 entries, 0 to 15428\n",
            "Data columns (total 2 columns):\n",
            " #   Column     Non-Null Count  Dtype         \n",
            "---  ------     --------------  -----         \n",
            " 0   Date       15429 non-null  datetime64[ns]\n",
            " 1   Adj Close  15429 non-null  float64       \n",
            "dtypes: datetime64[ns](1), float64(1)\n",
            "memory usage: 241.2 KB\n"
          ],
          "name": "stdout"
        }
      ]
    },
    {
      "cell_type": "markdown",
      "metadata": {
        "id": "_l19eEkZHUn8",
        "colab_type": "text"
      },
      "source": [
        "This function will get a sample of 5 rows from the S&P 500 dataframe "
      ]
    },
    {
      "cell_type": "code",
      "metadata": {
        "id": "KZfn0uRk19w9",
        "colab_type": "code",
        "colab": {}
      },
      "source": [
        "def get_data(start, end):\n",
        "  return sp.loc[((sp['Date'] >= start) & (sp['Date'] >= start)), 'Adj Close'].sample(5)"
      ],
      "execution_count": 0,
      "outputs": []
    },
    {
      "cell_type": "markdown",
      "metadata": {
        "id": "JIJ4QGEBHgeL",
        "colab_type": "text"
      },
      "source": [
        "This function will get the number of units that can be purchased with a hypothetical amount. It uses the previous function to get 5 random values of SP 500 and then calculates the number of units that can be purchased on those dates."
      ]
    },
    {
      "cell_type": "code",
      "metadata": {
        "id": "JnIkt0ne5FbT",
        "colab_type": "code",
        "colab": {}
      },
      "source": [
        "def get_units(start, end):\n",
        "  data = get_data(start, end)\n",
        "  return 2000/data.sum()"
      ],
      "execution_count": 0,
      "outputs": []
    },
    {
      "cell_type": "markdown",
      "metadata": {
        "id": "iH9gwdc4Hxpn",
        "colab_type": "text"
      },
      "source": [
        "For instance, the number of units that can be purchased with the hypothetical amount in the example below is 0.15"
      ]
    },
    {
      "cell_type": "code",
      "metadata": {
        "id": "V6nMLZNz58vd",
        "colab_type": "code",
        "colab": {
          "base_uri": "https://localhost:8080/",
          "height": 35
        },
        "outputId": "36b25118-7471-424c-a2b6-3bd69b35e275"
      },
      "source": [
        "get_units('2017-01-01', '2017-12-31')"
      ],
      "execution_count": 38,
      "outputs": [
        {
          "output_type": "execute_result",
          "data": {
            "text/plain": [
              "0.15361466733096232"
            ]
          },
          "metadata": {
            "tags": []
          },
          "execution_count": 38
        }
      ]
    },
    {
      "cell_type": "markdown",
      "metadata": {
        "id": "1n5uzqZMIe1T",
        "colab_type": "text"
      },
      "source": [
        "Now that we know the number of units that can be purchased on 5 dates within a period, this function will get the return for those purchases on a future date"
      ]
    },
    {
      "cell_type": "code",
      "metadata": {
        "id": "dOH0sNrV6XUr",
        "colab_type": "code",
        "colab": {}
      },
      "source": [
        "def get_return(num_units, return_date):\n",
        "  return sp.loc[sp['Date'] == return_date, 'Adj Close']*num_units/100"
      ],
      "execution_count": 0,
      "outputs": []
    },
    {
      "cell_type": "markdown",
      "metadata": {
        "id": "-R8XNJdkIvT8",
        "colab_type": "text"
      },
      "source": [
        "The last date that we have values for in our dataframe"
      ]
    },
    {
      "cell_type": "code",
      "metadata": {
        "id": "vNbX3E8k7stA",
        "colab_type": "code",
        "colab": {
          "base_uri": "https://localhost:8080/",
          "height": 35
        },
        "outputId": "2037fe69-490d-4258-e01e-46171b34bae6"
      },
      "source": [
        "sp.tail(1)['Date'].values[0]"
      ],
      "execution_count": 48,
      "outputs": [
        {
          "output_type": "execute_result",
          "data": {
            "text/plain": [
              "numpy.datetime64('2018-06-15T00:00:00.000000000')"
            ]
          },
          "metadata": {
            "tags": []
          },
          "execution_count": 48
        }
      ]
    },
    {
      "cell_type": "markdown",
      "metadata": {
        "id": "W1Tm7NTMI2J4",
        "colab_type": "text"
      },
      "source": [
        "Get me the return for my 5 purchases in 2017 as of 15 June, 2018"
      ]
    },
    {
      "cell_type": "code",
      "metadata": {
        "id": "qf7bi1I27g9M",
        "colab_type": "code",
        "colab": {
          "base_uri": "https://localhost:8080/",
          "height": 52
        },
        "outputId": "41870d51-c910-487f-d111-715b28daad97"
      },
      "source": [
        "get_return(get_units('2017-01-01', '2017-12-31'), '2018-06-15')"
      ],
      "execution_count": 58,
      "outputs": [
        {
          "output_type": "execute_result",
          "data": {
            "text/plain": [
              "15428    4.239858\n",
              "Name: Adj Close, dtype: float64"
            ]
          },
          "metadata": {
            "tags": []
          },
          "execution_count": 58
        }
      ]
    },
    {
      "cell_type": "markdown",
      "metadata": {
        "id": "DKdkvUnbI_bF",
        "colab_type": "text"
      },
      "source": [
        "Now simulate the returns over 100 trials"
      ]
    },
    {
      "cell_type": "code",
      "metadata": {
        "id": "qXvlQofX9J0z",
        "colab_type": "code",
        "colab": {}
      },
      "source": [
        "returns = np.zeros(100)\n",
        "for i in np.arange(0,100):\n",
        "  returns[i] = get_return(get_units('2017-01-01', '2017-12-31'), '2018-06-15')"
      ],
      "execution_count": 0,
      "outputs": []
    },
    {
      "cell_type": "markdown",
      "metadata": {
        "id": "gsuvXABxJHaE",
        "colab_type": "text"
      },
      "source": [
        "Plot the histogram of returns"
      ]
    },
    {
      "cell_type": "code",
      "metadata": {
        "id": "mkK8dEoJ8JP_",
        "colab_type": "code",
        "colab": {
          "base_uri": "https://localhost:8080/",
          "height": 352
        },
        "outputId": "9ea2ce94-af70-49e2-bc5b-264eb567b4b2"
      },
      "source": [
        "plt.hist(returns)"
      ],
      "execution_count": 57,
      "outputs": [
        {
          "output_type": "execute_result",
          "data": {
            "text/plain": [
              "(array([ 4.,  4., 13., 12., 23., 21.,  9.,  7.,  4.,  3.]),\n",
              " array([4.12815991, 4.18448787, 4.24081583, 4.2971438 , 4.35347176,\n",
              "        4.40979972, 4.46612768, 4.52245564, 4.5787836 , 4.63511156,\n",
              "        4.69143952]),\n",
              " <a list of 10 Patch objects>)"
            ]
          },
          "metadata": {
            "tags": []
          },
          "execution_count": 57
        },
        {
          "output_type": "display_data",
          "data": {
            "image/png": "[encoded data removed]",
            "text/plain": [
              "<Figure size 432x288 with 1 Axes>"
            ]
          },
          "metadata": {
            "tags": []
          }
        }
      ]
    },
    {
      "cell_type": "markdown",
      "metadata": {
        "id": "PbAXAmGCJMh_",
        "colab_type": "text"
      },
      "source": [
        "What this tells us is that if we made investments in 2017, then by June 2018, then the distribution of retunrs will look like the figure above. The median is around 4.4% or so."
      ]
    }
  ]
}