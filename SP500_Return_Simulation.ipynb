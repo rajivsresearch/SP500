{
  "nbformat": 4,
  "nbformat_minor": 0,
  "metadata": {
    "colab": {
      "name": "SP500 Return Simulation.ipynb",
      "provenance": [],
      "mount_file_id": "https://github.com/rajivsresearch/SP500/blob/master/SP500_Return_Simulation.ipynb",
      "authorship_tag": "ABX9TyOCAUJWETV+ozzGo01QRYUJ",
      "include_colab_link": true
    },
    "kernelspec": {
      "name": "python3",
      "display_name": "Python 3"
    }
  },
  "cells": [
    {
      "cell_type": "markdown",
      "metadata": {
        "id": "view-in-github",
        "colab_type": "text"
      },
      "source": [
        "<a href=\"https://colab.research.google.com/github/rajivsresearch/SP500/blob/master/SP500_Return_Simulation.ipynb\" target=\"_parent\"><img src=\"https://colab.research.google.com/assets/colab-badge.svg\" alt=\"Open In Colab\"/></a>"
      ]
    },
    {
      "cell_type": "markdown",
      "metadata": {
        "id": "TaIoIp-B_Bj2",
        "colab_type": "text"
      },
      "source": [
        "# S&P 500 Return Simulation"
      ]
    },
    {
      "cell_type": "markdown",
      "metadata": {
        "id": "ZTcoVDmj_QXL",
        "colab_type": "text"
      },
      "source": [
        "This notebook will simulate the returns from S&P 500 for an investment made in 5 installments between a start and end date and the date when the return is calculated. \n",
        "For instance what is the distribution of retuns if the investments were made randomly in 5 installments between Jan. 1, 2017 and Dec. 31, 2017, on June 1, 2018?\n",
        "Further it will compare distribution of returns from 2 periods."
      ]
    },
    {
      "cell_type": "code",
      "metadata": {
        "id": "aQ1qmTaJz1wF",
        "colab_type": "code",
        "outputId": "359438e4-ac3f-4d9d-8585-003b60994d01",
        "colab": {
          "base_uri": "https://localhost:8080/",
          "height": 72
        }
      },
      "source": [
        "import pandas as pd\n",
        "import matplotlib.pyplot as plt\n",
        "import seaborn as sns\n",
        "import numpy as np\n",
        "import datetime as dt"
      ],
      "execution_count": 1,
      "outputs": [
        {
          "output_type": "stream",
          "text": [
            "/usr/local/lib/python3.6/dist-packages/statsmodels/tools/_testing.py:19: FutureWarning: pandas.util.testing is deprecated. Use the functions in the public API at pandas.testing instead.\n",
            "  import pandas.util.testing as tm\n"
          ],
          "name": "stderr"
        }
      ]
    },
    {
      "cell_type": "markdown",
      "metadata": {
        "id": "cP91CYiVAJUt",
        "colab_type": "text"
      },
      "source": [
        "My SP500 data is in 3 datasets that I downloaded from various sources including Yahoo Finance."
      ]
    },
    {
      "cell_type": "code",
      "metadata": {
        "id": "4K4aVExa0XXn",
        "colab_type": "code",
        "colab": {}
      },
      "source": [
        "sp1 = pd.read_csv('drive/My Drive/Data/SP5001.csv')\n",
        "sp2 = pd.read_csv('drive/My Drive/Data/SP5002.csv')\n",
        "sp3 = pd.read_csv('drive/My Drive/Data/SP5003.csv')\n",
        "sp4 = pd.read_csv('drive/My Drive/Data/SP5004.csv')"
      ],
      "execution_count": 0,
      "outputs": []
    },
    {
      "cell_type": "markdown",
      "metadata": {
        "id": "7J75wpJVF0dO",
        "colab_type": "text"
      },
      "source": [
        "Concatenate the 3 dataframes to a single dataframe"
      ]
    },
    {
      "cell_type": "code",
      "metadata": {
        "id": "Ub53SY8t0ltB",
        "colab_type": "code",
        "colab": {}
      },
      "source": [
        "sp = pd.concat([sp1, sp2, sp3, sp4])"
      ],
      "execution_count": 0,
      "outputs": []
    },
    {
      "cell_type": "markdown",
      "metadata": {
        "id": "MHwrfF8kF_Wq",
        "colab_type": "text"
      },
      "source": [
        "We are concerned with the Date and the Adjusted Close, all other columns can be dropped"
      ]
    },
    {
      "cell_type": "code",
      "metadata": {
        "id": "O1QSn5i21F25",
        "colab_type": "code",
        "colab": {}
      },
      "source": [
        "sp = sp.drop(['Open', 'High', 'Low', 'Close', 'Volume'], axis=1)"
      ],
      "execution_count": 0,
      "outputs": []
    },
    {
      "cell_type": "markdown",
      "metadata": {
        "id": "E_jnVFF8GJrM",
        "colab_type": "text"
      },
      "source": [
        "Convert Date to Datetime"
      ]
    },
    {
      "cell_type": "code",
      "metadata": {
        "id": "oDhUkrAR1id1",
        "colab_type": "code",
        "colab": {}
      },
      "source": [
        "sp['Date'] = pd.to_datetime(sp['Date'])"
      ],
      "execution_count": 0,
      "outputs": []
    },
    {
      "cell_type": "markdown",
      "metadata": {
        "id": "nnXc9oD6HFTS",
        "colab_type": "text"
      },
      "source": [
        "Sort the dataframe by Date"
      ]
    },
    {
      "cell_type": "code",
      "metadata": {
        "id": "o3HIRs0R1xBz",
        "colab_type": "code",
        "colab": {}
      },
      "source": [
        "sp = sp.sort_values(by='Date').reset_index(drop=True)"
      ],
      "execution_count": 0,
      "outputs": []
    },
    {
      "cell_type": "markdown",
      "metadata": {
        "id": "GBSgFHkCHD-J",
        "colab_type": "text"
      },
      "source": [
        "Inspect the results of the various transformations"
      ]
    },
    {
      "cell_type": "code",
      "metadata": {
        "id": "vyCPPfkL03Uv",
        "colab_type": "code",
        "outputId": "ca12d5a1-c1bd-4ec2-9687-cbba143f2df0",
        "colab": {
          "base_uri": "https://localhost:8080/",
          "height": 202
        }
      },
      "source": [
        "sp.head()"
      ],
      "execution_count": 8,
      "outputs": [
        {
          "output_type": "execute_result",
          "data": {
            "text/html": [
              "<div>\n",
              "<style scoped>\n",
              "    .dataframe tbody tr th:only-of-type {\n",
              "        vertical-align: middle;\n",
              "    }\n",
              "\n",
              "    .dataframe tbody tr th {\n",
              "        vertical-align: top;\n",
              "    }\n",
              "\n",
              "    .dataframe thead th {\n",
              "        text-align: right;\n",
              "    }\n",
              "</style>\n",
              "<table border=\"1\" class=\"dataframe\">\n",
              "  <thead>\n",
              "    <tr style=\"text-align: right;\">\n",
              "      <th></th>\n",
              "      <th>Date</th>\n",
              "      <th>Adj Close</th>\n",
              "    </tr>\n",
              "  </thead>\n",
              "  <tbody>\n",
              "    <tr>\n",
              "      <th>0</th>\n",
              "      <td>1957-03-04</td>\n",
              "      <td>44.060001</td>\n",
              "    </tr>\n",
              "    <tr>\n",
              "      <th>1</th>\n",
              "      <td>1957-03-05</td>\n",
              "      <td>44.220001</td>\n",
              "    </tr>\n",
              "    <tr>\n",
              "      <th>2</th>\n",
              "      <td>1957-03-06</td>\n",
              "      <td>44.230000</td>\n",
              "    </tr>\n",
              "    <tr>\n",
              "      <th>3</th>\n",
              "      <td>1957-03-07</td>\n",
              "      <td>44.209999</td>\n",
              "    </tr>\n",
              "    <tr>\n",
              "      <th>4</th>\n",
              "      <td>1957-03-08</td>\n",
              "      <td>44.070000</td>\n",
              "    </tr>\n",
              "  </tbody>\n",
              "</table>\n",
              "</div>"
            ],
            "text/plain": [
              "        Date  Adj Close\n",
              "0 1957-03-04  44.060001\n",
              "1 1957-03-05  44.220001\n",
              "2 1957-03-06  44.230000\n",
              "3 1957-03-07  44.209999\n",
              "4 1957-03-08  44.070000"
            ]
          },
          "metadata": {
            "tags": []
          },
          "execution_count": 8
        }
      ]
    },
    {
      "cell_type": "code",
      "metadata": {
        "id": "Q2fIXNwC0-o5",
        "colab_type": "code",
        "outputId": "c39d53dc-6c5a-4fac-fd39-c758db2195a8",
        "colab": {
          "base_uri": "https://localhost:8080/",
          "height": 173
        }
      },
      "source": [
        "sp.info()"
      ],
      "execution_count": 9,
      "outputs": [
        {
          "output_type": "stream",
          "text": [
            "<class 'pandas.core.frame.DataFrame'>\n",
            "RangeIndex: 15879 entries, 0 to 15878\n",
            "Data columns (total 2 columns):\n",
            " #   Column     Non-Null Count  Dtype         \n",
            "---  ------     --------------  -----         \n",
            " 0   Date       15879 non-null  datetime64[ns]\n",
            " 1   Adj Close  15879 non-null  float64       \n",
            "dtypes: datetime64[ns](1), float64(1)\n",
            "memory usage: 248.2 KB\n"
          ],
          "name": "stdout"
        }
      ]
    },
    {
      "cell_type": "markdown",
      "metadata": {
        "id": "_l19eEkZHUn8",
        "colab_type": "text"
      },
      "source": [
        "This function will get a sample of 5 rows from the S&P 500 dataframe "
      ]
    },
    {
      "cell_type": "code",
      "metadata": {
        "id": "KZfn0uRk19w9",
        "colab_type": "code",
        "colab": {}
      },
      "source": [
        "def get_data(start, end):\n",
        "  return sp.loc[((sp['Date'] >= start) & (sp['Date'] <= end)), 'Adj Close'].sample(5)"
      ],
      "execution_count": 0,
      "outputs": []
    },
    {
      "cell_type": "markdown",
      "metadata": {
        "id": "JIJ4QGEBHgeL",
        "colab_type": "text"
      },
      "source": [
        "This function will get the number of units that can be purchased with a hypothetical amount. It uses the previous function to get 5 random values of SP 500 and then calculates the number of units that can be purchased on those dates."
      ]
    },
    {
      "cell_type": "code",
      "metadata": {
        "id": "JnIkt0ne5FbT",
        "colab_type": "code",
        "colab": {}
      },
      "source": [
        "def get_units(start, end):\n",
        "  data = get_data(start, end)\n",
        "  return 2000/data.sum()"
      ],
      "execution_count": 0,
      "outputs": []
    },
    {
      "cell_type": "markdown",
      "metadata": {
        "id": "iH9gwdc4Hxpn",
        "colab_type": "text"
      },
      "source": [
        "For instance, the number of units that can be purchased with the hypothetical amount in the example below is 0.15"
      ]
    },
    {
      "cell_type": "code",
      "metadata": {
        "id": "V6nMLZNz58vd",
        "colab_type": "code",
        "outputId": "e4712059-936a-4c55-bc32-5ec3c0a500f6",
        "colab": {
          "base_uri": "https://localhost:8080/",
          "height": 35
        }
      },
      "source": [
        "get_units('2017-01-01', '2017-12-31')"
      ],
      "execution_count": 12,
      "outputs": [
        {
          "output_type": "execute_result",
          "data": {
            "text/plain": [
              "0.15620960147559426"
            ]
          },
          "metadata": {
            "tags": []
          },
          "execution_count": 12
        }
      ]
    },
    {
      "cell_type": "markdown",
      "metadata": {
        "id": "1n5uzqZMIe1T",
        "colab_type": "text"
      },
      "source": [
        "Now that we know the number of units that can be purchased on 5 dates within a period, this function will get the return for those purchases on a future date"
      ]
    },
    {
      "cell_type": "code",
      "metadata": {
        "id": "dOH0sNrV6XUr",
        "colab_type": "code",
        "colab": {}
      },
      "source": [
        "def get_return(num_units, return_date):\n",
        "  return sp.loc[sp['Date'] == return_date, 'Adj Close']*num_units/100"
      ],
      "execution_count": 0,
      "outputs": []
    },
    {
      "cell_type": "markdown",
      "metadata": {
        "id": "-R8XNJdkIvT8",
        "colab_type": "text"
      },
      "source": [
        "The last date that we have values for in our dataframe"
      ]
    },
    {
      "cell_type": "code",
      "metadata": {
        "id": "vNbX3E8k7stA",
        "colab_type": "code",
        "outputId": "fe36da1a-bbb4-4723-c5ac-6265d80b820f",
        "colab": {
          "base_uri": "https://localhost:8080/",
          "height": 35
        }
      },
      "source": [
        "sp.tail(1)['Date'].values[0]"
      ],
      "execution_count": 14,
      "outputs": [
        {
          "output_type": "execute_result",
          "data": {
            "text/plain": [
              "numpy.datetime64('2020-03-31T00:00:00.000000000')"
            ]
          },
          "metadata": {
            "tags": []
          },
          "execution_count": 14
        }
      ]
    },
    {
      "cell_type": "markdown",
      "metadata": {
        "id": "W1Tm7NTMI2J4",
        "colab_type": "text"
      },
      "source": [
        "Get me the return for my 5 purchases in 2017 as of 15 June, 2018"
      ]
    },
    {
      "cell_type": "code",
      "metadata": {
        "id": "qf7bi1I27g9M",
        "colab_type": "code",
        "outputId": "19362271-c7bd-4ebd-dbbd-fbc74a46275d",
        "colab": {
          "base_uri": "https://localhost:8080/",
          "height": 52
        }
      },
      "source": [
        "get_return(get_units('2017-01-01', '2017-12-31'), '2018-06-15')"
      ],
      "execution_count": 15,
      "outputs": [
        {
          "output_type": "execute_result",
          "data": {
            "text/plain": [
              "15428    4.0575\n",
              "Name: Adj Close, dtype: float64"
            ]
          },
          "metadata": {
            "tags": []
          },
          "execution_count": 15
        }
      ]
    },
    {
      "cell_type": "markdown",
      "metadata": {
        "id": "DKdkvUnbI_bF",
        "colab_type": "text"
      },
      "source": [
        "Now simulate the returns over 100 trials in March 2020"
      ]
    },
    {
      "cell_type": "code",
      "metadata": {
        "id": "qXvlQofX9J0z",
        "colab_type": "code",
        "colab": {}
      },
      "source": [
        "returns = np.zeros(100)\n",
        "for i in np.arange(0,100):\n",
        "  returns[i] = get_return(get_units('2020-02-15', '2020-03-31'), '2020-03-31')"
      ],
      "execution_count": 0,
      "outputs": []
    },
    {
      "cell_type": "markdown",
      "metadata": {
        "id": "gsuvXABxJHaE",
        "colab_type": "text"
      },
      "source": [
        "Plot the histogram of returns"
      ]
    },
    {
      "cell_type": "code",
      "metadata": {
        "id": "mkK8dEoJ8JP_",
        "colab_type": "code",
        "outputId": "b2525687-9ee8-45d9-fa77-b046d84eb64e",
        "colab": {
          "base_uri": "https://localhost:8080/",
          "height": 352
        }
      },
      "source": [
        "plt.hist(returns)"
      ],
      "execution_count": 30,
      "outputs": [
        {
          "output_type": "execute_result",
          "data": {
            "text/plain": [
              "(array([ 6.,  8., 20., 14., 22., 12.,  7.,  7.,  3.,  1.]),\n",
              " array([3.33545211, 3.42405345, 3.51265479, 3.60125613, 3.68985746,\n",
              "        3.7784588 , 3.86706014, 3.95566148, 4.04426282, 4.13286416,\n",
              "        4.2214655 ]),\n",
              " <a list of 10 Patch objects>)"
            ]
          },
          "metadata": {
            "tags": []
          },
          "execution_count": 30
        },
        {
          "output_type": "display_data",
          "data": {
            "image/png": "[encoded data removed]",
            "text/plain": [
              "<Figure size 432x288 with 1 Axes>"
            ]
          },
          "metadata": {
            "tags": []
          }
        }
      ]
    },
    {
      "cell_type": "markdown",
      "metadata": {
        "id": "PbAXAmGCJMh_",
        "colab_type": "text"
      },
      "source": [
        "If we picked 5 days in March 2020, then by end of the returns as of March 31 would have been up by 4%"
      ]
    },
    {
      "cell_type": "markdown",
      "metadata": {
        "id": "K6YsyeOY7qTe",
        "colab_type": "text"
      },
      "source": [
        "We are interested in the first quarter of 2020"
      ]
    },
    {
      "cell_type": "code",
      "metadata": {
        "id": "x3LYS5ULwrMI",
        "colab_type": "code",
        "colab": {
          "base_uri": "https://localhost:8080/",
          "height": 303
        },
        "outputId": "d311e63a-8211-4faa-f259-4c678b28ea46"
      },
      "source": [
        "sp.loc[((sp['Date'] >= '2020-01-01') & (sp['Date'] <= '2020-03-31')), \n",
        "       ['Date', 'Adj Close']].plot('Date', 'Adj Close')"
      ],
      "execution_count": 25,
      "outputs": [
        {
          "output_type": "execute_result",
          "data": {
            "text/plain": [
              "<matplotlib.axes._subplots.AxesSubplot at 0x7ff42cd6ce10>"
            ]
          },
          "metadata": {
            "tags": []
          },
          "execution_count": 25
        },
        {
          "output_type": "display_data",
          "data": {
            "image/png": "[encoded data removed]",
            "text/plain": [
              "<Figure size 432x288 with 1 Axes>"
            ]
          },
          "metadata": {
            "tags": []
          }
        }
      ]
    },
    {
      "cell_type": "markdown",
      "metadata": {
        "id": "oNtJ1hsP7-Md",
        "colab_type": "text"
      },
      "source": [
        "This is a function that can be used to compare 2 distributions of returns from 2 investment periods"
      ]
    },
    {
      "cell_type": "code",
      "metadata": {
        "id": "l7TxKMRnyeQA",
        "colab_type": "code",
        "colab": {}
      },
      "source": [
        "def compare_returns(start1, end1, start2, end2, retdate):\n",
        "  returns1, returns2 = np.zeros(100), np.zeros(100)\n",
        "  for i in np.arange(0,100):\n",
        "    returns1[i] = get_return(get_units(start1, end1), retdate)\n",
        "    returns2[i] = get_return(get_units(start2, end2), retdate)\n",
        "\n",
        "  plt.hist(returns1, alpha=0.5, label='Returns 1')\n",
        "  plt.hist(returns2, alpha=0.5, label='Returns 2')\n",
        "  plt.legend()"
      ],
      "execution_count": 0,
      "outputs": []
    },
    {
      "cell_type": "markdown",
      "metadata": {
        "id": "4VdVwiKd8Y0r",
        "colab_type": "text"
      },
      "source": [
        "Compare the distribution of returns for first quarter of 2020 vs. March 2020"
      ]
    },
    {
      "cell_type": "code",
      "metadata": {
        "id": "vcsiNJqO00YC",
        "colab_type": "code",
        "colab": {
          "base_uri": "https://localhost:8080/",
          "height": 265
        },
        "outputId": "69201411-b519-40fa-e628-e68905f66ebc"
      },
      "source": [
        "compare_returns('2020-01-01', '2020-03-31', '2020-03-01', '2020-03-31', '2020-03-31')"
      ],
      "execution_count": 46,
      "outputs": [
        {
          "output_type": "display_data",
          "data": {
            "image/png": "[encoded data removed]",
            "text/plain": [
              "<Figure size 432x288 with 1 Axes>"
            ]
          },
          "metadata": {
            "tags": []
          }
        }
      ]
    },
    {
      "cell_type": "markdown",
      "metadata": {
        "id": "V3WCuiVg8iEh",
        "colab_type": "text"
      },
      "source": [
        "As we can see, the first quarter of 2020 is less profitable than investing in March 2020. Since the peak in Feb, 2015, the markets had fallen 10%+ by end of Feb. 2020. So returns in March are better than the returns in the first quarter of 2020."
      ]
    }
  ]
}