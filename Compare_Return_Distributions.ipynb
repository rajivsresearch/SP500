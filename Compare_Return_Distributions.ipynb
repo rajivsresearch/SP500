{
  "nbformat": 4,
  "nbformat_minor": 0,
  "metadata": {
    "colab": {
      "name": "Compare Return Distributions.ipynb",
      "provenance": [],
      "authorship_tag": "ABX9TyPknpgMlrztEW+ul7Fai2Ll",
      "include_colab_link": true
    },
    "kernelspec": {
      "name": "python3",
      "display_name": "Python 3"
    }
  },
  "cells": [
    {
      "cell_type": "markdown",
      "metadata": {
        "id": "view-in-github",
        "colab_type": "text"
      },
      "source": [
        "<a href=\"https://colab.research.google.com/github/rajivsresearch/SP500/blob/master/Compare_Return_Distributions.ipynb\" target=\"_parent\"><img src=\"https://colab.research.google.com/assets/colab-badge.svg\" alt=\"Open In Colab\"/></a>"
      ]
    },
    {
      "cell_type": "code",
      "metadata": {
        "colab": {
          "base_uri": "https://localhost:8080/"
        },
        "id": "auZY7JEvxr6b",
        "outputId": "03437607-9632-40d5-97ed-1580b758afce"
      },
      "source": [
        "!pip install yfinance"
      ],
      "execution_count": 1,
      "outputs": [
        {
          "output_type": "stream",
          "text": [
            "Collecting yfinance\n",
            "  Downloading https://files.pythonhosted.org/packages/7a/e8/b9d7104d3a4bf39924799067592d9e59119fcfc900a425a12e80a3123ec8/yfinance-0.1.55.tar.gz\n",
            "Requirement already satisfied: pandas>=0.24 in /usr/local/lib/python3.6/dist-packages (from yfinance) (1.1.5)\n",
            "Requirement already satisfied: numpy>=1.15 in /usr/local/lib/python3.6/dist-packages (from yfinance) (1.19.5)\n",
            "Requirement already satisfied: requests>=2.20 in /usr/local/lib/python3.6/dist-packages (from yfinance) (2.23.0)\n",
            "Requirement already satisfied: multitasking>=0.0.7 in /usr/local/lib/python3.6/dist-packages (from yfinance) (0.0.9)\n",
            "Collecting lxml>=4.5.1\n",
            "\u001b[?25l  Downloading https://files.pythonhosted.org/packages/bd/78/56a7c88a57d0d14945472535d0df9fb4bbad7d34ede658ec7961635c790e/lxml-4.6.2-cp36-cp36m-manylinux1_x86_64.whl (5.5MB)\n",
            "\u001b[K     |████████████████████████████████| 5.5MB 12.0MB/s \n",
            "\u001b[?25hRequirement already satisfied: pytz>=2017.2 in /usr/local/lib/python3.6/dist-packages (from pandas>=0.24->yfinance) (2018.9)\n",
            "Requirement already satisfied: python-dateutil>=2.7.3 in /usr/local/lib/python3.6/dist-packages (from pandas>=0.24->yfinance) (2.8.1)\n",
            "Requirement already satisfied: idna<3,>=2.5 in /usr/local/lib/python3.6/dist-packages (from requests>=2.20->yfinance) (2.10)\n",
            "Requirement already satisfied: chardet<4,>=3.0.2 in /usr/local/lib/python3.6/dist-packages (from requests>=2.20->yfinance) (3.0.4)\n",
            "Requirement already satisfied: certifi>=2017.4.17 in /usr/local/lib/python3.6/dist-packages (from requests>=2.20->yfinance) (2020.12.5)\n",
            "Requirement already satisfied: urllib3!=1.25.0,!=1.25.1,<1.26,>=1.21.1 in /usr/local/lib/python3.6/dist-packages (from requests>=2.20->yfinance) (1.24.3)\n",
            "Requirement already satisfied: six>=1.5 in /usr/local/lib/python3.6/dist-packages (from python-dateutil>=2.7.3->pandas>=0.24->yfinance) (1.15.0)\n",
            "Building wheels for collected packages: yfinance\n",
            "  Building wheel for yfinance (setup.py) ... \u001b[?25l\u001b[?25hdone\n",
            "  Created wheel for yfinance: filename=yfinance-0.1.55-py2.py3-none-any.whl size=22616 sha256=a3ad7e68c5bbc3215411053e4fe296c1bbfa7da5ef757e7e606cf16e94994e4c\n",
            "  Stored in directory: /root/.cache/pip/wheels/04/98/cc/2702a4242d60bdc14f48b4557c427ded1fe92aedf257d4565c\n",
            "Successfully built yfinance\n",
            "Installing collected packages: lxml, yfinance\n",
            "  Found existing installation: lxml 4.2.6\n",
            "    Uninstalling lxml-4.2.6:\n",
            "      Successfully uninstalled lxml-4.2.6\n",
            "Successfully installed lxml-4.6.2 yfinance-0.1.55\n"
          ],
          "name": "stdout"
        }
      ]
    },
    {
      "cell_type": "code",
      "metadata": {
        "id": "LI2UAykjx1lt"
      },
      "source": [
        "import yfinance as yf\r\n",
        "import pandas as pd\r\n",
        "import numpy as np\r\n",
        "import matplotlib.pyplot as plt\r\n",
        "import numpy as np\r\n",
        "import seaborn as sns"
      ],
      "execution_count": 2,
      "outputs": []
    },
    {
      "cell_type": "code",
      "metadata": {
        "id": "DA5indSB1vte"
      },
      "source": [
        "#Parameters - Tickers and Years for comparing return distributions\r\n",
        "\r\n",
        "parmtickers = ['^GSPC', 'BTC-USD']\r\n",
        "parmstart = '2020-01-01'\r\n",
        "parmend = '2020-12-31'"
      ],
      "execution_count": 26,
      "outputs": []
    },
    {
      "cell_type": "code",
      "metadata": {
        "id": "qNLrvTwxx1iK"
      },
      "source": [
        "# Get stock data from Yahoo Finance\r\n",
        "\r\n",
        "def GetStockData(tickerSymbol, start, end):\r\n",
        "  #get data on this ticker\r\n",
        "  tickerData = yf.Ticker(tickerSymbol)\r\n",
        "\r\n",
        "  #get the historical prices for this ticker\r\n",
        "  tickerDf = tickerData.history(period='1d', start=start, end=end)\r\n",
        "\r\n",
        "  #see your data\r\n",
        "  return tickerDf[['Close']]"
      ],
      "execution_count": 3,
      "outputs": []
    },
    {
      "cell_type": "code",
      "metadata": {
        "id": "aBwiAs20x1fd"
      },
      "source": [
        "# Get returns if stock purchased on a given date\r\n",
        "# dataframe should contain Date and Close price for the year\r\n",
        "\r\n",
        "def getreturns(df, buydate):\r\n",
        "  f1 = df['Date'] == buydate\r\n",
        "  buyprice = df.loc[f1, 'Close'].values\r\n",
        "\r\n",
        "  f2 = df['Date'] > buydate\r\n",
        "  return (df.loc[f2,'Close'] - buyprice)/buyprice*100"
      ],
      "execution_count": 4,
      "outputs": []
    },
    {
      "cell_type": "code",
      "metadata": {
        "id": "TWL2yrNkyOCd"
      },
      "source": [
        "# Get returns for all the years i.e. if stock purchased on each day, what would be the return for the rest of the days in the year?\r\n",
        "# Returns a dictionary of dataframes with key=year\r\n",
        "# Buy date is Column, Sell Date is index, value is the percent return\r\n",
        "\r\n",
        "def getallreturns(df):\r\n",
        "  ret={}\r\n",
        "  years = pd.unique(df.index.year)\r\n",
        "\r\n",
        "  for year in years:\r\n",
        "    #print(year)\r\n",
        "    df1 = df.loc[df.index.year==year,:].reset_index()\r\n",
        "    \r\n",
        "    for date in df1['Date']:\r\n",
        "      df1[date] = getreturns(df1, date)\r\n",
        "\r\n",
        "    ret[year] = df1\r\n",
        "\r\n",
        "    return ret"
      ],
      "execution_count": 11,
      "outputs": []
    },
    {
      "cell_type": "code",
      "metadata": {
        "id": "hL1hsOkQx1XQ"
      },
      "source": [
        "def PlotReturnKde(dfdict, year, lab):\r\n",
        "  retarr = dfdict[year].iloc[:,2:].values.flatten()\r\n",
        "  retarr = retarr[~np.isnan(retarr)]\r\n",
        "  sns.kdeplot(np.sort(retarr), label=lab)\r\n",
        "  #plt.xlim(-35,75)\r\n",
        "  plt.vlines(dfdict[year].iloc[-1,2],0,0.005)\r\n",
        "  plt.legend()"
      ],
      "execution_count": 36,
      "outputs": []
    },
    {
      "cell_type": "code",
      "metadata": {
        "colab": {
          "base_uri": "https://localhost:8080/",
          "height": 265
        },
        "id": "ATb6J1pSzUn7",
        "outputId": "c64d82dd-8824-4e3c-d693-e7810aa6e9b7"
      },
      "source": [
        "#Main Section\r\n",
        "\r\n",
        "for ticker in parmtickers:\r\n",
        "  df = GetStockData(ticker, parmstart, parmend)\r\n",
        "  dfdict = getallreturns(df)\r\n",
        "  PlotReturnKde(dfdict, int(parmstart[0:4]), ticker)"
      ],
      "execution_count": 37,
      "outputs": [
        {
          "output_type": "display_data",
          "data": {
            "image/png": "[encoded data removed]",
            "text/plain": [
              "<Figure size 432x288 with 1 Axes>"
            ]
          },
          "metadata": {
            "tags": [],
            "needs_background": "light"
          }
        }
      ]
    }
  ]
}