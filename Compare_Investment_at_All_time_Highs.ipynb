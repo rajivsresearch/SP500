{
  "nbformat": 4,
  "nbformat_minor": 0,
  "metadata": {
    "colab": {
      "name": "Compare Investment at All time Highs.ipynb",
      "provenance": [],
      "collapsed_sections": [],
      "authorship_tag": "ABX9TyNc4Ncmza1DXQpL6E+Q2Lt7",
      "include_colab_link": true
    },
    "kernelspec": {
      "name": "python3",
      "display_name": "Python 3"
    }
  },
  "cells": [
    {
      "cell_type": "markdown",
      "metadata": {
        "id": "view-in-github",
        "colab_type": "text"
      },
      "source": [
        "<a href=\"https://colab.research.google.com/github/rajivsresearch/SP500/blob/master/Compare_Investment_at_All_time_Highs.ipynb\" target=\"_parent\"><img src=\"https://colab.research.google.com/assets/colab-badge.svg\" alt=\"Open In Colab\"/></a>"
      ]
    },
    {
      "cell_type": "code",
      "metadata": {
        "colab": {
          "base_uri": "https://localhost:8080/"
        },
        "id": "5OUjL3jTLdlW",
        "outputId": "eecebd62-cbc8-44c4-c2af-cba812ea9cdc"
      },
      "source": [
        "!pip install yfinance"
      ],
      "execution_count": 53,
      "outputs": [
        {
          "output_type": "stream",
          "text": [
            "Requirement already satisfied: yfinance in /usr/local/lib/python3.6/dist-packages (0.1.55)\n",
            "Requirement already satisfied: pandas>=0.24 in /usr/local/lib/python3.6/dist-packages (from yfinance) (1.1.5)\n",
            "Requirement already satisfied: multitasking>=0.0.7 in /usr/local/lib/python3.6/dist-packages (from yfinance) (0.0.9)\n",
            "Requirement already satisfied: requests>=2.20 in /usr/local/lib/python3.6/dist-packages (from yfinance) (2.23.0)\n",
            "Requirement already satisfied: lxml>=4.5.1 in /usr/local/lib/python3.6/dist-packages (from yfinance) (4.6.2)\n",
            "Requirement already satisfied: numpy>=1.15 in /usr/local/lib/python3.6/dist-packages (from yfinance) (1.19.4)\n",
            "Requirement already satisfied: python-dateutil>=2.7.3 in /usr/local/lib/python3.6/dist-packages (from pandas>=0.24->yfinance) (2.8.1)\n",
            "Requirement already satisfied: pytz>=2017.2 in /usr/local/lib/python3.6/dist-packages (from pandas>=0.24->yfinance) (2018.9)\n",
            "Requirement already satisfied: certifi>=2017.4.17 in /usr/local/lib/python3.6/dist-packages (from requests>=2.20->yfinance) (2020.12.5)\n",
            "Requirement already satisfied: chardet<4,>=3.0.2 in /usr/local/lib/python3.6/dist-packages (from requests>=2.20->yfinance) (3.0.4)\n",
            "Requirement already satisfied: idna<3,>=2.5 in /usr/local/lib/python3.6/dist-packages (from requests>=2.20->yfinance) (2.10)\n",
            "Requirement already satisfied: urllib3!=1.25.0,!=1.25.1,<1.26,>=1.21.1 in /usr/local/lib/python3.6/dist-packages (from requests>=2.20->yfinance) (1.24.3)\n",
            "Requirement already satisfied: six>=1.5 in /usr/local/lib/python3.6/dist-packages (from python-dateutil>=2.7.3->pandas>=0.24->yfinance) (1.15.0)\n"
          ],
          "name": "stdout"
        }
      ]
    },
    {
      "cell_type": "code",
      "metadata": {
        "id": "KdLDDBnnMfDW"
      },
      "source": [
        "import yfinance as yf\r\n",
        "import pandas as pd\r\n",
        "import numpy as np\r\n",
        "import matplotlib.pyplot as plt\r\n",
        "\r\n",
        "import plotly.express as px"
      ],
      "execution_count": 54,
      "outputs": []
    },
    {
      "cell_type": "code",
      "metadata": {
        "id": "A2mvo02BLz-3"
      },
      "source": [
        "def GetStockData(tickerSymbol, start, end):\r\n",
        "  #get data on this ticker\r\n",
        "  tickerData = yf.Ticker(tickerSymbol)\r\n",
        "\r\n",
        "  #get the historical prices for this ticker\r\n",
        "  tickerDf = tickerData.history(period='1d', start=start, end=end)\r\n",
        "\r\n",
        "  #see your data\r\n",
        "  return tickerDf[['Close']]"
      ],
      "execution_count": 55,
      "outputs": []
    },
    {
      "cell_type": "code",
      "metadata": {
        "id": "5a9rIRUlM7HL"
      },
      "source": [
        "spy = GetStockData('SPY', '2000-01-01', '2020-12-31')"
      ],
      "execution_count": 56,
      "outputs": []
    },
    {
      "cell_type": "code",
      "metadata": {
        "colab": {
          "base_uri": "https://localhost:8080/",
          "height": 228
        },
        "id": "3LJBk7WzmtQP",
        "outputId": "39d1199e-8ab8-4328-9df7-884af3c8e07f"
      },
      "source": [
        "spy.head()"
      ],
      "execution_count": 57,
      "outputs": [
        {
          "output_type": "execute_result",
          "data": {
            "text/html": [
              "<div>\n",
              "<style scoped>\n",
              "    .dataframe tbody tr th:only-of-type {\n",
              "        vertical-align: middle;\n",
              "    }\n",
              "\n",
              "    .dataframe tbody tr th {\n",
              "        vertical-align: top;\n",
              "    }\n",
              "\n",
              "    .dataframe thead th {\n",
              "        text-align: right;\n",
              "    }\n",
              "</style>\n",
              "<table border=\"1\" class=\"dataframe\">\n",
              "  <thead>\n",
              "    <tr style=\"text-align: right;\">\n",
              "      <th></th>\n",
              "      <th>Close</th>\n",
              "    </tr>\n",
              "    <tr>\n",
              "      <th>Date</th>\n",
              "      <th></th>\n",
              "    </tr>\n",
              "  </thead>\n",
              "  <tbody>\n",
              "    <tr>\n",
              "      <th>2000-01-03</th>\n",
              "      <td>98.146072</td>\n",
              "    </tr>\n",
              "    <tr>\n",
              "      <th>2000-01-04</th>\n",
              "      <td>94.307983</td>\n",
              "    </tr>\n",
              "    <tr>\n",
              "      <th>2000-01-05</th>\n",
              "      <td>94.476685</td>\n",
              "    </tr>\n",
              "    <tr>\n",
              "      <th>2000-01-06</th>\n",
              "      <td>92.958336</td>\n",
              "    </tr>\n",
              "    <tr>\n",
              "      <th>2000-01-07</th>\n",
              "      <td>98.356987</td>\n",
              "    </tr>\n",
              "  </tbody>\n",
              "</table>\n",
              "</div>"
            ],
            "text/plain": [
              "                Close\n",
              "Date                 \n",
              "2000-01-03  98.146072\n",
              "2000-01-04  94.307983\n",
              "2000-01-05  94.476685\n",
              "2000-01-06  92.958336\n",
              "2000-01-07  98.356987"
            ]
          },
          "metadata": {
            "tags": []
          },
          "execution_count": 57
        }
      ]
    },
    {
      "cell_type": "code",
      "metadata": {
        "colab": {
          "base_uri": "https://localhost:8080/"
        },
        "id": "zIeW2Mxnq0EU",
        "outputId": "e683d9e0-e5af-40d2-9e0b-6506e04abf05"
      },
      "source": [
        "spy.info()"
      ],
      "execution_count": 58,
      "outputs": [
        {
          "output_type": "stream",
          "text": [
            "<class 'pandas.core.frame.DataFrame'>\n",
            "DatetimeIndex: 5277 entries, 2000-01-03 to 2020-12-21\n",
            "Data columns (total 1 columns):\n",
            " #   Column  Non-Null Count  Dtype  \n",
            "---  ------  --------------  -----  \n",
            " 0   Close   5277 non-null   float64\n",
            "dtypes: float64(1)\n",
            "memory usage: 82.5 KB\n"
          ],
          "name": "stdout"
        }
      ]
    },
    {
      "cell_type": "code",
      "metadata": {
        "id": "DFpsFteJm8EJ"
      },
      "source": [
        "years = np.arange(2000,2021,1)"
      ],
      "execution_count": 59,
      "outputs": []
    },
    {
      "cell_type": "code",
      "metadata": {
        "colab": {
          "base_uri": "https://localhost:8080/"
        },
        "id": "AYvTE-Z1pYCM",
        "outputId": "7c5332b6-6192-4deb-dcdc-811561788d0d"
      },
      "source": [
        "years"
      ],
      "execution_count": 60,
      "outputs": [
        {
          "output_type": "execute_result",
          "data": {
            "text/plain": [
              "array([2000, 2001, 2002, 2003, 2004, 2005, 2006, 2007, 2008, 2009, 2010,\n",
              "       2011, 2012, 2013, 2014, 2015, 2016, 2017, 2018, 2019, 2020])"
            ]
          },
          "metadata": {
            "tags": []
          },
          "execution_count": 60
        }
      ]
    },
    {
      "cell_type": "code",
      "metadata": {
        "id": "U6jbz5klYzEn"
      },
      "source": [
        "spunits = pd.DataFrame(index=years)"
      ],
      "execution_count": 61,
      "outputs": []
    },
    {
      "cell_type": "code",
      "metadata": {
        "id": "G7cJ-H5WagOc"
      },
      "source": [
        "currprice = spy.iloc[-1].values[0]"
      ],
      "execution_count": 62,
      "outputs": []
    },
    {
      "cell_type": "code",
      "metadata": {
        "id": "Eh7i340KfQiv"
      },
      "source": [
        "spunits['Cash'] = np.arange(1000,22000,1000)"
      ],
      "execution_count": 63,
      "outputs": []
    },
    {
      "cell_type": "code",
      "metadata": {
        "colab": {
          "base_uri": "https://localhost:8080/"
        },
        "id": "2_ALllSnm8Av",
        "outputId": "9aa88fd4-14c9-4517-98a5-602a42a4621a"
      },
      "source": [
        "units = 0\r\n",
        "totunits = 0\r\n",
        "purch = 0\r\n",
        "totvalu = 0\r\n",
        "price = 0\r\n",
        "\r\n",
        "for y in years:\r\n",
        "  f1 = ((spy.index.year == y ) & (spy.index.month == 1))\r\n",
        "  price = spy.loc[f1, 'Close'].head(1).values[0]\r\n",
        "  units = (1000/price)\r\n",
        "  purch = purch + 1\r\n",
        "  totunits = totunits + units\r\n",
        "  totvalu = totunits*price\r\n",
        "  print('Units Purchased in year ', y, ' = ', units, '. Total Portfolio = ', totvalu)\r\n",
        "  spunits.loc[y,'Portfolio Value Start'] = totvalu\r\n",
        "\r\n",
        "print('Units Purchased in 20 years = ', totunits, '. Total Value = ', totunits*currprice)\r\n",
        "print('Total Book Value = ', purch*1000+(21-purch)*1000)\r\n",
        "spunits.loc[2020,'Portfolio Value Start'] = totunits*currprice"
      ],
      "execution_count": 64,
      "outputs": [
        {
          "output_type": "stream",
          "text": [
            "Units Purchased in year  2000  =  10.188894732840794 . Total Portfolio =  1000.0\n",
            "Units Purchased in year  2001  =  11.384185334870773 . Total Portfolio =  1895.0042917547469\n",
            "Units Purchased in year  2002  =  12.532745325439555 . Total Portfolio =  2721.3371458144543\n",
            "Units Purchased in year  2003  =  15.650723499088727 . Total Portfolio =  3179.1852239378554\n",
            "Units Purchased in year  2004  =  12.608492513082302 . Total Portfolio =  4946.272628596442\n",
            "Units Purchased in year  2005  =  11.438820567116672 . Total Portfolio =  6452.051725035687\n",
            "Units Purchased in year  2006  =  10.672783888096017 . Total Portfolio =  7915.1462960621375\n",
            "Units Purchased in year  2007  =  9.391590158892933 . Total Portfolio =  9994.924654004793\n",
            "Units Purchased in year  2008  =  8.994911059344439 . Total Portfolio =  11435.704744619123\n",
            "Units Purchased in year  2009  =  13.693978774082156 . Total Portfolio =  8511.56028322869\n",
            "Units Purchased in year  2010  =  10.978464713573404 . Total Portfolio =  11616.887597110648\n",
            "Units Purchased in year  2011  =  9.604367923966985 . Total Portfolio =  14278.91554926506\n",
            "Units Purchased in year  2012  =  9.373812155446858 . Total Portfolio =  15630.11592468349\n",
            "Units Purchased in year  2013  =  8.005161531153266 . Total Portfolio =  19302.41277151769\n",
            "Units Purchased in year  2014  =  6.26552794214559 . Total Portfolio =  25661.75773275394\n",
            "Units Purchased in year  2015  =  5.472059025027305 . Total Portfolio =  30382.80807713659\n",
            "Units Purchased in year  2016  =  5.479042969973029 . Total Portfolio =  31344.080171538826\n",
            "Units Purchased in year  2017  =  4.787083756142728 . Total Portfolio =  36874.77697539171\n",
            "Units Purchased in year  2018  =  3.935261537027793 . Total Portfolio =  45856.64909672224\n",
            "Units Purchased in year  2019  =  4.1488700887585725 . Total Portfolio =  44495.675580747826\n",
            "Units Purchased in year  2020  =  3.1356385686606094 . Total Portfolio =  59873.74244631926\n",
            "Units Purchased in 20 years =  187.7424160647305 . Total Value =  69030.80316121767\n",
            "Total Book Value =  21000\n"
          ],
          "name": "stdout"
        }
      ]
    },
    {
      "cell_type": "code",
      "metadata": {
        "colab": {
          "base_uri": "https://localhost:8080/"
        },
        "id": "kz9u8PIJm764",
        "outputId": "d531e85e-4d9a-4ceb-8527-82089dd85700"
      },
      "source": [
        "athunits = 0\r\n",
        "totathunits = 0\r\n",
        "prevhigh = 0\r\n",
        "funds = 1000\r\n",
        "purch = 0\r\n",
        "totathvalu = 0\r\n",
        "\r\n",
        "for y in years:\r\n",
        "  high = spy.loc[spy.index.year == y, 'Close'].max()\r\n",
        "  if high > prevhigh:\r\n",
        "    athunits = funds/high\r\n",
        "    purch = purch + funds/1000\r\n",
        "    totathunits = totathunits + athunits\r\n",
        "    prevhigh = high\r\n",
        "    funds = 1000\r\n",
        "    totathvalu = totathunits * high\r\n",
        "    print('Units Purchased in year ', y, ' = ', athunits, '. Total Portfolio value = ', totathvalu)\r\n",
        "    spunits.loc[y,'Portfolio Value High'] = totathvalu\r\n",
        "  else:\r\n",
        "    funds = funds + 1000\r\n",
        "    spunits.loc[y,'Portfolio Value High'] = totathvalu + funds - 1000\r\n",
        "\r\n",
        "print('Units Purchased in 20 years = ', totathunits, '. Total Portfolio Value = ', totathunits*currprice)\r\n",
        "print('Total Book Value = ', purch*1000)\r\n",
        "spunits.loc[2020,'Portfolio Value High'] = totathunits*currprice"
      ],
      "execution_count": 65,
      "outputs": [
        {
          "output_type": "stream",
          "text": [
            "Units Purchased in year  2000  =  9.625335122809089 . Total Portfolio value =  1000.0\n",
            "Units Purchased in year  2006  =  55.8987920481091 . Total Portfolio value =  7033.15310798041\n",
            "Units Purchased in year  2007  =  8.375200710695895 . Total Portfolio value =  8823.588882740196\n",
            "Units Purchased in year  2012  =  40.20008029465501 . Total Portfolio value =  14191.440332948752\n",
            "Units Purchased in year  2013  =  6.205481780345299 . Total Portfolio value =  19386.87344754723\n",
            "Units Purchased in year  2014  =  5.385803276993713 . Total Portfolio value =  23337.408882072472\n",
            "Units Purchased in year  2015  =  5.238778246184367 . Total Portfolio value =  24992.367557293375\n",
            "Units Purchased in year  2016  =  4.762022060247397 . Total Portfolio value =  28494.511748017903\n",
            "Units Purchased in year  2017  =  3.9436245108153916 . Total Portfolio value =  35407.81270323935\n",
            "Units Purchased in year  2018  =  3.572285526869053 . Total Portfolio value =  40088.453876540814\n",
            "Units Purchased in year  2019  =  3.154377960478247 . Total Portfolio value =  46399.57017579851\n",
            "Units Purchased in year  2020  =  2.6978902231695647 . Total Portfolio value =  55250.45848094302\n",
            "Units Purchased in 20 years =  149.05967176137216 . Total Portfolio Value =  54807.58731200772\n",
            "Total Book Value =  21000.0\n"
          ],
          "name": "stdout"
        }
      ]
    },
    {
      "cell_type": "code",
      "metadata": {
        "colab": {
          "base_uri": "https://localhost:8080/",
          "height": 680
        },
        "id": "_j4Sm8Lkd2KQ",
        "outputId": "6071b607-9ebf-4df9-bf1d-8aadc5958554"
      },
      "source": [
        "spunits"
      ],
      "execution_count": 66,
      "outputs": [
        {
          "output_type": "execute_result",
          "data": {
            "text/html": [
              "<div>\n",
              "<style scoped>\n",
              "    .dataframe tbody tr th:only-of-type {\n",
              "        vertical-align: middle;\n",
              "    }\n",
              "\n",
              "    .dataframe tbody tr th {\n",
              "        vertical-align: top;\n",
              "    }\n",
              "\n",
              "    .dataframe thead th {\n",
              "        text-align: right;\n",
              "    }\n",
              "</style>\n",
              "<table border=\"1\" class=\"dataframe\">\n",
              "  <thead>\n",
              "    <tr style=\"text-align: right;\">\n",
              "      <th></th>\n",
              "      <th>Cash</th>\n",
              "      <th>Portfolio Value Start</th>\n",
              "      <th>Portfolio Value High</th>\n",
              "    </tr>\n",
              "  </thead>\n",
              "  <tbody>\n",
              "    <tr>\n",
              "      <th>2000</th>\n",
              "      <td>1000</td>\n",
              "      <td>1000.000000</td>\n",
              "      <td>1000.000000</td>\n",
              "    </tr>\n",
              "    <tr>\n",
              "      <th>2001</th>\n",
              "      <td>2000</td>\n",
              "      <td>1895.004292</td>\n",
              "      <td>2000.000000</td>\n",
              "    </tr>\n",
              "    <tr>\n",
              "      <th>2002</th>\n",
              "      <td>3000</td>\n",
              "      <td>2721.337146</td>\n",
              "      <td>3000.000000</td>\n",
              "    </tr>\n",
              "    <tr>\n",
              "      <th>2003</th>\n",
              "      <td>4000</td>\n",
              "      <td>3179.185224</td>\n",
              "      <td>4000.000000</td>\n",
              "    </tr>\n",
              "    <tr>\n",
              "      <th>2004</th>\n",
              "      <td>5000</td>\n",
              "      <td>4946.272629</td>\n",
              "      <td>5000.000000</td>\n",
              "    </tr>\n",
              "    <tr>\n",
              "      <th>2005</th>\n",
              "      <td>6000</td>\n",
              "      <td>6452.051725</td>\n",
              "      <td>6000.000000</td>\n",
              "    </tr>\n",
              "    <tr>\n",
              "      <th>2006</th>\n",
              "      <td>7000</td>\n",
              "      <td>7915.146296</td>\n",
              "      <td>7033.153108</td>\n",
              "    </tr>\n",
              "    <tr>\n",
              "      <th>2007</th>\n",
              "      <td>8000</td>\n",
              "      <td>9994.924654</td>\n",
              "      <td>8823.588883</td>\n",
              "    </tr>\n",
              "    <tr>\n",
              "      <th>2008</th>\n",
              "      <td>9000</td>\n",
              "      <td>11435.704745</td>\n",
              "      <td>9823.588883</td>\n",
              "    </tr>\n",
              "    <tr>\n",
              "      <th>2009</th>\n",
              "      <td>10000</td>\n",
              "      <td>8511.560283</td>\n",
              "      <td>10823.588883</td>\n",
              "    </tr>\n",
              "    <tr>\n",
              "      <th>2010</th>\n",
              "      <td>11000</td>\n",
              "      <td>11616.887597</td>\n",
              "      <td>11823.588883</td>\n",
              "    </tr>\n",
              "    <tr>\n",
              "      <th>2011</th>\n",
              "      <td>12000</td>\n",
              "      <td>14278.915549</td>\n",
              "      <td>12823.588883</td>\n",
              "    </tr>\n",
              "    <tr>\n",
              "      <th>2012</th>\n",
              "      <td>13000</td>\n",
              "      <td>15630.115925</td>\n",
              "      <td>14191.440333</td>\n",
              "    </tr>\n",
              "    <tr>\n",
              "      <th>2013</th>\n",
              "      <td>14000</td>\n",
              "      <td>19302.412772</td>\n",
              "      <td>19386.873448</td>\n",
              "    </tr>\n",
              "    <tr>\n",
              "      <th>2014</th>\n",
              "      <td>15000</td>\n",
              "      <td>25661.757733</td>\n",
              "      <td>23337.408882</td>\n",
              "    </tr>\n",
              "    <tr>\n",
              "      <th>2015</th>\n",
              "      <td>16000</td>\n",
              "      <td>30382.808077</td>\n",
              "      <td>24992.367557</td>\n",
              "    </tr>\n",
              "    <tr>\n",
              "      <th>2016</th>\n",
              "      <td>17000</td>\n",
              "      <td>31344.080172</td>\n",
              "      <td>28494.511748</td>\n",
              "    </tr>\n",
              "    <tr>\n",
              "      <th>2017</th>\n",
              "      <td>18000</td>\n",
              "      <td>36874.776975</td>\n",
              "      <td>35407.812703</td>\n",
              "    </tr>\n",
              "    <tr>\n",
              "      <th>2018</th>\n",
              "      <td>19000</td>\n",
              "      <td>45856.649097</td>\n",
              "      <td>40088.453877</td>\n",
              "    </tr>\n",
              "    <tr>\n",
              "      <th>2019</th>\n",
              "      <td>20000</td>\n",
              "      <td>44495.675581</td>\n",
              "      <td>46399.570176</td>\n",
              "    </tr>\n",
              "    <tr>\n",
              "      <th>2020</th>\n",
              "      <td>21000</td>\n",
              "      <td>69030.803161</td>\n",
              "      <td>54807.587312</td>\n",
              "    </tr>\n",
              "  </tbody>\n",
              "</table>\n",
              "</div>"
            ],
            "text/plain": [
              "       Cash  Portfolio Value Start  Portfolio Value High\n",
              "2000   1000            1000.000000           1000.000000\n",
              "2001   2000            1895.004292           2000.000000\n",
              "2002   3000            2721.337146           3000.000000\n",
              "2003   4000            3179.185224           4000.000000\n",
              "2004   5000            4946.272629           5000.000000\n",
              "2005   6000            6452.051725           6000.000000\n",
              "2006   7000            7915.146296           7033.153108\n",
              "2007   8000            9994.924654           8823.588883\n",
              "2008   9000           11435.704745           9823.588883\n",
              "2009  10000            8511.560283          10823.588883\n",
              "2010  11000           11616.887597          11823.588883\n",
              "2011  12000           14278.915549          12823.588883\n",
              "2012  13000           15630.115925          14191.440333\n",
              "2013  14000           19302.412772          19386.873448\n",
              "2014  15000           25661.757733          23337.408882\n",
              "2015  16000           30382.808077          24992.367557\n",
              "2016  17000           31344.080172          28494.511748\n",
              "2017  18000           36874.776975          35407.812703\n",
              "2018  19000           45856.649097          40088.453877\n",
              "2019  20000           44495.675581          46399.570176\n",
              "2020  21000           69030.803161          54807.587312"
            ]
          },
          "metadata": {
            "tags": []
          },
          "execution_count": 66
        }
      ]
    },
    {
      "cell_type": "code",
      "metadata": {
        "colab": {
          "base_uri": "https://localhost:8080/",
          "height": 198
        },
        "id": "9XexNp4Xg0uR",
        "outputId": "d9424c20-e09a-4cc4-ebcf-350cbabb8a63"
      },
      "source": [
        "df = spunits.reset_index().melt(id_vars=['index'])\r\n",
        "df.columns = ['Year', 'Type of Investment', 'Portfolio Value']\r\n",
        "df.head()"
      ],
      "execution_count": 67,
      "outputs": [
        {
          "output_type": "execute_result",
          "data": {
            "text/html": [
              "<div>\n",
              "<style scoped>\n",
              "    .dataframe tbody tr th:only-of-type {\n",
              "        vertical-align: middle;\n",
              "    }\n",
              "\n",
              "    .dataframe tbody tr th {\n",
              "        vertical-align: top;\n",
              "    }\n",
              "\n",
              "    .dataframe thead th {\n",
              "        text-align: right;\n",
              "    }\n",
              "</style>\n",
              "<table border=\"1\" class=\"dataframe\">\n",
              "  <thead>\n",
              "    <tr style=\"text-align: right;\">\n",
              "      <th></th>\n",
              "      <th>Year</th>\n",
              "      <th>Type of Investment</th>\n",
              "      <th>Portfolio Value</th>\n",
              "    </tr>\n",
              "  </thead>\n",
              "  <tbody>\n",
              "    <tr>\n",
              "      <th>0</th>\n",
              "      <td>2000</td>\n",
              "      <td>Cash</td>\n",
              "      <td>1000.0</td>\n",
              "    </tr>\n",
              "    <tr>\n",
              "      <th>1</th>\n",
              "      <td>2001</td>\n",
              "      <td>Cash</td>\n",
              "      <td>2000.0</td>\n",
              "    </tr>\n",
              "    <tr>\n",
              "      <th>2</th>\n",
              "      <td>2002</td>\n",
              "      <td>Cash</td>\n",
              "      <td>3000.0</td>\n",
              "    </tr>\n",
              "    <tr>\n",
              "      <th>3</th>\n",
              "      <td>2003</td>\n",
              "      <td>Cash</td>\n",
              "      <td>4000.0</td>\n",
              "    </tr>\n",
              "    <tr>\n",
              "      <th>4</th>\n",
              "      <td>2004</td>\n",
              "      <td>Cash</td>\n",
              "      <td>5000.0</td>\n",
              "    </tr>\n",
              "  </tbody>\n",
              "</table>\n",
              "</div>"
            ],
            "text/plain": [
              "   Year Type of Investment  Portfolio Value\n",
              "0  2000               Cash           1000.0\n",
              "1  2001               Cash           2000.0\n",
              "2  2002               Cash           3000.0\n",
              "3  2003               Cash           4000.0\n",
              "4  2004               Cash           5000.0"
            ]
          },
          "metadata": {
            "tags": []
          },
          "execution_count": 67
        }
      ]
    },
    {
      "cell_type": "code",
      "metadata": {
        "colab": {
          "base_uri": "https://localhost:8080/",
          "height": 542
        },
        "id": "Lzjx_0PvTqBW",
        "outputId": "d3a2decd-df04-4e35-cc69-3148f137ec12"
      },
      "source": [
        "fig = px.bar(df, x='Type of Investment', y='Portfolio Value', animation_frame=\"Year\", animation_group = 'Type of Investment', \r\n",
        "             range_y=[0,df['Portfolio Value'].max()*1.1])\r\n",
        "fig.show()"
      ],
      "execution_count": 68,
      "outputs": [
        {
          "output_type": "display_data",
          "data": {
            "text/html": [
              "<html>\n",
              "<head><meta charset=\"utf-8\" /></head>\n",
              "<body>\n",
              "    <div>\n",
              "            <script src=\"https://cdnjs.cloudflare.com/ajax/libs/mathjax/2.7.5/MathJax.js?config=TeX-AMS-MML_SVG\"></script><script type=\"text/javascript\">if (window.MathJax) {MathJax.Hub.Config({SVG: {font: \"STIX-Web\"}});}</script>\n",
              "                <script type=\"text/javascript\">window.PlotlyConfig = {MathJaxConfig: 'local'};</script>\n",
              "        <script src=\"https://cdn.plot.ly/plotly-latest.min.js\"></script>    \n",
              "            <div id=\"87b37964-d5ad-4ddf-8152-b540c6a52bd6\" class=\"plotly-graph-div\" style=\"height:525px; width:100%;\"></div>\n",
              "            <script type=\"text/javascript\">\n",
              "                \n",
              "                    window.PLOTLYENV=window.PLOTLYENV || {};\n",
              "                    \n",
              "                if (document.getElementById(\"87b37964-d5ad-4ddf-8152-b540c6a52bd6\")) {\n",
              "                    Plotly.newPlot(\n",
              "                        '87b37964-d5ad-4ddf-8152-b540c6a52bd6',\n",
              "                        [{\"alignmentgroup\": \"True\", \"hoverlabel\": {\"namelength\": 0}, \"hovertemplate\": \"Year=2000<br>Type of Investment=%{x}<br>Portfolio Value=%{y}\", \"ids\": [\"Cash\", \"Portfolio Value Start\", \"Portfolio Value High\"], \"legendgroup\": \"\", \"marker\": {\"color\": \"#636efa\"}, \"name\": \"\", \"offsetgroup\": \"\", \"orientation\": \"v\", \"showlegend\": false, \"textposition\": \"auto\", \"type\": \"bar\", \"x\": [\"Cash\", \"Portfolio Value Start\", \"Portfolio Value High\"], \"xaxis\": \"x\", \"y\": [1000.0, 1000.0, 1000.0], \"yaxis\": \"y\"}],\n",
              "                        {\"barmode\": \"relative\", \"legend\": {\"tracegroupgap\": 0}, \"margin\": {\"t\": 60}, \"sliders\": [{\"active\": 0, \"currentvalue\": {\"prefix\": \"Year=\"}, \"len\": 0.9, \"pad\": {\"b\": 10, \"t\": 60}, \"steps\": [{\"args\": [[\"2000\"], {\"frame\": {\"duration\": 0, \"redraw\": true}, \"fromcurrent\": true, \"mode\": \"immediate\", \"transition\": {\"duration\": 0, \"easing\": \"linear\"}}], \"label\": \"2000\", \"method\": \"animate\"}, {\"args\": [[\"2001\"], {\"frame\": {\"duration\": 0, \"redraw\": true}, \"fromcurrent\": true, \"mode\": \"immediate\", \"transition\": {\"duration\": 0, \"easing\": \"linear\"}}], \"label\": \"2001\", \"method\": \"animate\"}, {\"args\": [[\"2002\"], {\"frame\": {\"duration\": 0, \"redraw\": true}, \"fromcurrent\": true, \"mode\": \"immediate\", \"transition\": {\"duration\": 0, \"easing\": \"linear\"}}], \"label\": \"2002\", \"method\": \"animate\"}, {\"args\": [[\"2003\"], {\"frame\": {\"duration\": 0, \"redraw\": true}, \"fromcurrent\": true, \"mode\": \"immediate\", \"transition\": {\"duration\": 0, \"easing\": \"linear\"}}], \"label\": \"2003\", \"method\": \"animate\"}, {\"args\": [[\"2004\"], {\"frame\": {\"duration\": 0, \"redraw\": true}, \"fromcurrent\": true, \"mode\": \"immediate\", \"transition\": {\"duration\": 0, \"easing\": \"linear\"}}], \"label\": \"2004\", \"method\": \"animate\"}, {\"args\": [[\"2005\"], {\"frame\": {\"duration\": 0, \"redraw\": true}, \"fromcurrent\": true, \"mode\": \"immediate\", \"transition\": {\"duration\": 0, \"easing\": \"linear\"}}], \"label\": \"2005\", \"method\": \"animate\"}, {\"args\": [[\"2006\"], {\"frame\": {\"duration\": 0, \"redraw\": true}, \"fromcurrent\": true, \"mode\": \"immediate\", \"transition\": {\"duration\": 0, \"easing\": \"linear\"}}], \"label\": \"2006\", \"method\": \"animate\"}, {\"args\": [[\"2007\"], {\"frame\": {\"duration\": 0, \"redraw\": true}, \"fromcurrent\": true, \"mode\": \"immediate\", \"transition\": {\"duration\": 0, \"easing\": \"linear\"}}], \"label\": \"2007\", \"method\": \"animate\"}, {\"args\": [[\"2008\"], {\"frame\": {\"duration\": 0, \"redraw\": true}, \"fromcurrent\": true, \"mode\": \"immediate\", \"transition\": {\"duration\": 0, \"easing\": \"linear\"}}], \"label\": \"2008\", \"method\": \"animate\"}, {\"args\": [[\"2009\"], {\"frame\": {\"duration\": 0, \"redraw\": true}, \"fromcurrent\": true, \"mode\": \"immediate\", \"transition\": {\"duration\": 0, \"easing\": \"linear\"}}], \"label\": \"2009\", \"method\": \"animate\"}, {\"args\": [[\"2010\"], {\"frame\": {\"duration\": 0, \"redraw\": true}, \"fromcurrent\": true, \"mode\": \"immediate\", \"transition\": {\"duration\": 0, \"easing\": \"linear\"}}], \"label\": \"2010\", \"method\": \"animate\"}, {\"args\": [[\"2011\"], {\"frame\": {\"duration\": 0, \"redraw\": true}, \"fromcurrent\": true, \"mode\": \"immediate\", \"transition\": {\"duration\": 0, \"easing\": \"linear\"}}], \"label\": \"2011\", \"method\": \"animate\"}, {\"args\": [[\"2012\"], {\"frame\": {\"duration\": 0, \"redraw\": true}, \"fromcurrent\": true, \"mode\": \"immediate\", \"transition\": {\"duration\": 0, \"easing\": \"linear\"}}], \"label\": \"2012\", \"method\": \"animate\"}, {\"args\": [[\"2013\"], {\"frame\": {\"duration\": 0, \"redraw\": true}, \"fromcurrent\": true, \"mode\": \"immediate\", \"transition\": {\"duration\": 0, \"easing\": \"linear\"}}], \"label\": \"2013\", \"method\": \"animate\"}, {\"args\": [[\"2014\"], {\"frame\": {\"duration\": 0, \"redraw\": true}, \"fromcurrent\": true, \"mode\": \"immediate\", \"transition\": {\"duration\": 0, \"easing\": \"linear\"}}], \"label\": \"2014\", \"method\": \"animate\"}, {\"args\": [[\"2015\"], {\"frame\": {\"duration\": 0, \"redraw\": true}, \"fromcurrent\": true, \"mode\": \"immediate\", \"transition\": {\"duration\": 0, \"easing\": \"linear\"}}], \"label\": \"2015\", \"method\": \"animate\"}, {\"args\": [[\"2016\"], {\"frame\": {\"duration\": 0, \"redraw\": true}, \"fromcurrent\": true, \"mode\": \"immediate\", \"transition\": {\"duration\": 0, \"easing\": \"linear\"}}], \"label\": \"2016\", \"method\": \"animate\"}, {\"args\": [[\"2017\"], {\"frame\": {\"duration\": 0, \"redraw\": true}, \"fromcurrent\": true, \"mode\": \"immediate\", \"transition\": {\"duration\": 0, \"easing\": \"linear\"}}], \"label\": \"2017\", \"method\": \"animate\"}, {\"args\": [[\"2018\"], {\"frame\": {\"duration\": 0, \"redraw\": true}, \"fromcurrent\": true, \"mode\": \"immediate\", \"transition\": {\"duration\": 0, \"easing\": \"linear\"}}], \"label\": \"2018\", \"method\": \"animate\"}, {\"args\": [[\"2019\"], {\"frame\": {\"duration\": 0, \"redraw\": true}, \"fromcurrent\": true, \"mode\": \"immediate\", \"transition\": {\"duration\": 0, \"easing\": \"linear\"}}], \"label\": \"2019\", \"method\": \"animate\"}, {\"args\": [[\"2020\"], {\"frame\": {\"duration\": 0, \"redraw\": true}, \"fromcurrent\": true, \"mode\": \"immediate\", \"transition\": {\"duration\": 0, \"easing\": \"linear\"}}], \"label\": \"2020\", \"method\": \"animate\"}], \"x\": 0.1, \"xanchor\": \"left\", \"y\": 0, \"yanchor\": \"top\"}], \"template\": {\"data\": {\"bar\": [{\"error_x\": {\"color\": \"#2a3f5f\"}, \"error_y\": {\"color\": \"#2a3f5f\"}, \"marker\": {\"line\": {\"color\": \"#E5ECF6\", \"width\": 0.5}}, \"type\": \"bar\"}], \"barpolar\": [{\"marker\": {\"line\": {\"color\": \"#E5ECF6\", \"width\": 0.5}}, \"type\": \"barpolar\"}], \"carpet\": [{\"aaxis\": {\"endlinecolor\": \"#2a3f5f\", \"gridcolor\": \"white\", \"linecolor\": \"white\", \"minorgridcolor\": \"white\", \"startlinecolor\": \"#2a3f5f\"}, \"baxis\": {\"endlinecolor\": \"#2a3f5f\", \"gridcolor\": \"white\", \"linecolor\": \"white\", \"minorgridcolor\": \"white\", \"startlinecolor\": \"#2a3f5f\"}, \"type\": \"carpet\"}], \"choropleth\": [{\"colorbar\": {\"outlinewidth\": 0, \"ticks\": \"\"}, \"type\": \"choropleth\"}], \"contour\": [{\"colorbar\": {\"outlinewidth\": 0, \"ticks\": \"\"}, \"colorscale\": [[0.0, \"#0d0887\"], [0.1111111111111111, \"#46039f\"], [0.2222222222222222, \"#7201a8\"], [0.3333333333333333, \"#9c179e\"], [0.4444444444444444, \"#bd3786\"], [0.5555555555555556, \"#d8576b\"], [0.6666666666666666, \"#ed7953\"], [0.7777777777777778, \"#fb9f3a\"], [0.8888888888888888, \"#fdca26\"], [1.0, \"#f0f921\"]], \"type\": \"contour\"}], \"contourcarpet\": [{\"colorbar\": {\"outlinewidth\": 0, \"ticks\": \"\"}, \"type\": \"contourcarpet\"}], \"heatmap\": [{\"colorbar\": {\"outlinewidth\": 0, \"ticks\": \"\"}, \"colorscale\": [[0.0, \"#0d0887\"], [0.1111111111111111, \"#46039f\"], [0.2222222222222222, \"#7201a8\"], [0.3333333333333333, \"#9c179e\"], [0.4444444444444444, \"#bd3786\"], [0.5555555555555556, \"#d8576b\"], [0.6666666666666666, \"#ed7953\"], [0.7777777777777778, \"#fb9f3a\"], [0.8888888888888888, \"#fdca26\"], [1.0, \"#f0f921\"]], \"type\": \"heatmap\"}], \"heatmapgl\": [{\"colorbar\": {\"outlinewidth\": 0, \"ticks\": \"\"}, \"colorscale\": [[0.0, \"#0d0887\"], [0.1111111111111111, \"#46039f\"], [0.2222222222222222, \"#7201a8\"], [0.3333333333333333, \"#9c179e\"], [0.4444444444444444, \"#bd3786\"], [0.5555555555555556, \"#d8576b\"], [0.6666666666666666, \"#ed7953\"], [0.7777777777777778, \"#fb9f3a\"], [0.8888888888888888, \"#fdca26\"], [1.0, \"#f0f921\"]], \"type\": \"heatmapgl\"}], \"histogram\": [{\"marker\": {\"colorbar\": {\"outlinewidth\": 0, \"ticks\": \"\"}}, \"type\": \"histogram\"}], \"histogram2d\": [{\"colorbar\": {\"outlinewidth\": 0, \"ticks\": \"\"}, \"colorscale\": [[0.0, \"#0d0887\"], [0.1111111111111111, \"#46039f\"], [0.2222222222222222, \"#7201a8\"], [0.3333333333333333, \"#9c179e\"], [0.4444444444444444, \"#bd3786\"], [0.5555555555555556, \"#d8576b\"], [0.6666666666666666, \"#ed7953\"], [0.7777777777777778, \"#fb9f3a\"], [0.8888888888888888, \"#fdca26\"], [1.0, \"#f0f921\"]], \"type\": \"histogram2d\"}], \"histogram2dcontour\": [{\"colorbar\": {\"outlinewidth\": 0, \"ticks\": \"\"}, \"colorscale\": [[0.0, \"#0d0887\"], [0.1111111111111111, \"#46039f\"], [0.2222222222222222, \"#7201a8\"], [0.3333333333333333, \"#9c179e\"], [0.4444444444444444, \"#bd3786\"], [0.5555555555555556, \"#d8576b\"], [0.6666666666666666, \"#ed7953\"], [0.7777777777777778, \"#fb9f3a\"], [0.8888888888888888, \"#fdca26\"], [1.0, \"#f0f921\"]], \"type\": \"histogram2dcontour\"}], \"mesh3d\": [{\"colorbar\": {\"outlinewidth\": 0, \"ticks\": \"\"}, \"type\": \"mesh3d\"}], \"parcoords\": [{\"line\": {\"colorbar\": {\"outlinewidth\": 0, \"ticks\": \"\"}}, \"type\": \"parcoords\"}], \"pie\": [{\"automargin\": true, \"type\": \"pie\"}], \"scatter\": [{\"marker\": {\"colorbar\": {\"outlinewidth\": 0, \"ticks\": \"\"}}, \"type\": \"scatter\"}], \"scatter3d\": [{\"line\": {\"colorbar\": {\"outlinewidth\": 0, \"ticks\": \"\"}}, \"marker\": {\"colorbar\": {\"outlinewidth\": 0, \"ticks\": \"\"}}, \"type\": \"scatter3d\"}], \"scattercarpet\": [{\"marker\": {\"colorbar\": {\"outlinewidth\": 0, \"ticks\": \"\"}}, \"type\": \"scattercarpet\"}], \"scattergeo\": [{\"marker\": {\"colorbar\": {\"outlinewidth\": 0, \"ticks\": \"\"}}, \"type\": \"scattergeo\"}], \"scattergl\": [{\"marker\": {\"colorbar\": {\"outlinewidth\": 0, \"ticks\": \"\"}}, \"type\": \"scattergl\"}], \"scattermapbox\": [{\"marker\": {\"colorbar\": {\"outlinewidth\": 0, \"ticks\": \"\"}}, \"type\": \"scattermapbox\"}], \"scatterpolar\": [{\"marker\": {\"colorbar\": {\"outlinewidth\": 0, \"ticks\": \"\"}}, \"type\": \"scatterpolar\"}], \"scatterpolargl\": [{\"marker\": {\"colorbar\": {\"outlinewidth\": 0, \"ticks\": \"\"}}, \"type\": \"scatterpolargl\"}], \"scatterternary\": [{\"marker\": {\"colorbar\": {\"outlinewidth\": 0, \"ticks\": \"\"}}, \"type\": \"scatterternary\"}], \"surface\": [{\"colorbar\": {\"outlinewidth\": 0, \"ticks\": \"\"}, \"colorscale\": [[0.0, \"#0d0887\"], [0.1111111111111111, \"#46039f\"], [0.2222222222222222, \"#7201a8\"], [0.3333333333333333, \"#9c179e\"], [0.4444444444444444, \"#bd3786\"], [0.5555555555555556, \"#d8576b\"], [0.6666666666666666, \"#ed7953\"], [0.7777777777777778, \"#fb9f3a\"], [0.8888888888888888, \"#fdca26\"], [1.0, \"#f0f921\"]], \"type\": \"surface\"}], \"table\": [{\"cells\": {\"fill\": {\"color\": \"#EBF0F8\"}, \"line\": {\"color\": \"white\"}}, \"header\": {\"fill\": {\"color\": \"#C8D4E3\"}, \"line\": {\"color\": \"white\"}}, \"type\": \"table\"}]}, \"layout\": {\"annotationdefaults\": {\"arrowcolor\": \"#2a3f5f\", \"arrowhead\": 0, \"arrowwidth\": 1}, \"coloraxis\": {\"colorbar\": {\"outlinewidth\": 0, \"ticks\": \"\"}}, \"colorscale\": {\"diverging\": [[0, \"#8e0152\"], [0.1, \"#c51b7d\"], [0.2, \"#de77ae\"], [0.3, \"#f1b6da\"], [0.4, \"#fde0ef\"], [0.5, \"#f7f7f7\"], [0.6, \"#e6f5d0\"], [0.7, \"#b8e186\"], [0.8, \"#7fbc41\"], [0.9, \"#4d9221\"], [1, \"#276419\"]], \"sequential\": [[0.0, \"#0d0887\"], [0.1111111111111111, \"#46039f\"], [0.2222222222222222, \"#7201a8\"], [0.3333333333333333, \"#9c179e\"], [0.4444444444444444, \"#bd3786\"], [0.5555555555555556, \"#d8576b\"], [0.6666666666666666, \"#ed7953\"], [0.7777777777777778, \"#fb9f3a\"], [0.8888888888888888, \"#fdca26\"], [1.0, \"#f0f921\"]], \"sequentialminus\": [[0.0, \"#0d0887\"], [0.1111111111111111, \"#46039f\"], [0.2222222222222222, \"#7201a8\"], [0.3333333333333333, \"#9c179e\"], [0.4444444444444444, \"#bd3786\"], [0.5555555555555556, \"#d8576b\"], [0.6666666666666666, \"#ed7953\"], [0.7777777777777778, \"#fb9f3a\"], [0.8888888888888888, \"#fdca26\"], [1.0, \"#f0f921\"]]}, \"colorway\": [\"#636efa\", \"#EF553B\", \"#00cc96\", \"#ab63fa\", \"#FFA15A\", \"#19d3f3\", \"#FF6692\", \"#B6E880\", \"#FF97FF\", \"#FECB52\"], \"font\": {\"color\": \"#2a3f5f\"}, \"geo\": {\"bgcolor\": \"white\", \"lakecolor\": \"white\", \"landcolor\": \"#E5ECF6\", \"showlakes\": true, \"showland\": true, \"subunitcolor\": \"white\"}, \"hoverlabel\": {\"align\": \"left\"}, \"hovermode\": \"closest\", \"mapbox\": {\"style\": \"light\"}, \"paper_bgcolor\": \"white\", \"plot_bgcolor\": \"#E5ECF6\", \"polar\": {\"angularaxis\": {\"gridcolor\": \"white\", \"linecolor\": \"white\", \"ticks\": \"\"}, \"bgcolor\": \"#E5ECF6\", \"radialaxis\": {\"gridcolor\": \"white\", \"linecolor\": \"white\", \"ticks\": \"\"}}, \"scene\": {\"xaxis\": {\"backgroundcolor\": \"#E5ECF6\", \"gridcolor\": \"white\", \"gridwidth\": 2, \"linecolor\": \"white\", \"showbackground\": true, \"ticks\": \"\", \"zerolinecolor\": \"white\"}, \"yaxis\": {\"backgroundcolor\": \"#E5ECF6\", \"gridcolor\": \"white\", \"gridwidth\": 2, \"linecolor\": \"white\", \"showbackground\": true, \"ticks\": \"\", \"zerolinecolor\": \"white\"}, \"zaxis\": {\"backgroundcolor\": \"#E5ECF6\", \"gridcolor\": \"white\", \"gridwidth\": 2, \"linecolor\": \"white\", \"showbackground\": true, \"ticks\": \"\", \"zerolinecolor\": \"white\"}}, \"shapedefaults\": {\"line\": {\"color\": \"#2a3f5f\"}}, \"ternary\": {\"aaxis\": {\"gridcolor\": \"white\", \"linecolor\": \"white\", \"ticks\": \"\"}, \"baxis\": {\"gridcolor\": \"white\", \"linecolor\": \"white\", \"ticks\": \"\"}, \"bgcolor\": \"#E5ECF6\", \"caxis\": {\"gridcolor\": \"white\", \"linecolor\": \"white\", \"ticks\": \"\"}}, \"title\": {\"x\": 0.05}, \"xaxis\": {\"automargin\": true, \"gridcolor\": \"white\", \"linecolor\": \"white\", \"ticks\": \"\", \"title\": {\"standoff\": 15}, \"zerolinecolor\": \"white\", \"zerolinewidth\": 2}, \"yaxis\": {\"automargin\": true, \"gridcolor\": \"white\", \"linecolor\": \"white\", \"ticks\": \"\", \"title\": {\"standoff\": 15}, \"zerolinecolor\": \"white\", \"zerolinewidth\": 2}}}, \"updatemenus\": [{\"buttons\": [{\"args\": [null, {\"frame\": {\"duration\": 500, \"redraw\": true}, \"fromcurrent\": true, \"mode\": \"immediate\", \"transition\": {\"duration\": 500, \"easing\": \"linear\"}}], \"label\": \"&#9654;\", \"method\": \"animate\"}, {\"args\": [[null], {\"frame\": {\"duration\": 0, \"redraw\": true}, \"fromcurrent\": true, \"mode\": \"immediate\", \"transition\": {\"duration\": 0, \"easing\": \"linear\"}}], \"label\": \"&#9724;\", \"method\": \"animate\"}], \"direction\": \"left\", \"pad\": {\"r\": 10, \"t\": 70}, \"showactive\": false, \"type\": \"buttons\", \"x\": 0.1, \"xanchor\": \"right\", \"y\": 0, \"yanchor\": \"top\"}], \"xaxis\": {\"anchor\": \"y\", \"domain\": [0.0, 1.0], \"title\": {\"text\": \"Type of Investment\"}}, \"yaxis\": {\"anchor\": \"x\", \"domain\": [0.0, 1.0], \"range\": [0, 75933.88347733945], \"title\": {\"text\": \"Portfolio Value\"}}},\n",
              "                        {\"responsive\": true}\n",
              "                    ).then(function(){\n",
              "                            Plotly.addFrames('87b37964-d5ad-4ddf-8152-b540c6a52bd6', [{\"data\": [{\"alignmentgroup\": \"True\", \"hoverlabel\": {\"namelength\": 0}, \"hovertemplate\": \"Year=2000<br>Type of Investment=%{x}<br>Portfolio Value=%{y}\", \"ids\": [\"Cash\", \"Portfolio Value Start\", \"Portfolio Value High\"], \"legendgroup\": \"\", \"marker\": {\"color\": \"#636efa\"}, \"name\": \"\", \"offsetgroup\": \"\", \"orientation\": \"v\", \"showlegend\": false, \"textposition\": \"auto\", \"x\": [\"Cash\", \"Portfolio Value Start\", \"Portfolio Value High\"], \"xaxis\": \"x\", \"y\": [1000.0, 1000.0, 1000.0], \"yaxis\": \"y\", \"type\": \"bar\"}], \"name\": \"2000\"}, {\"data\": [{\"alignmentgroup\": \"True\", \"hoverlabel\": {\"namelength\": 0}, \"hovertemplate\": \"Year=2001<br>Type of Investment=%{x}<br>Portfolio Value=%{y}\", \"ids\": [\"Cash\", \"Portfolio Value Start\", \"Portfolio Value High\"], \"legendgroup\": \"\", \"marker\": {\"color\": \"#636efa\"}, \"name\": \"\", \"offsetgroup\": \"\", \"orientation\": \"v\", \"showlegend\": false, \"textposition\": \"auto\", \"x\": [\"Cash\", \"Portfolio Value Start\", \"Portfolio Value High\"], \"xaxis\": \"x\", \"y\": [2000.0, 1895.0042917547469, 2000.0], \"yaxis\": \"y\", \"type\": \"bar\"}], \"name\": \"2001\"}, {\"data\": [{\"alignmentgroup\": \"True\", \"hoverlabel\": {\"namelength\": 0}, \"hovertemplate\": \"Year=2002<br>Type of Investment=%{x}<br>Portfolio Value=%{y}\", \"ids\": [\"Cash\", \"Portfolio Value Start\", \"Portfolio Value High\"], \"legendgroup\": \"\", \"marker\": {\"color\": \"#636efa\"}, \"name\": \"\", \"offsetgroup\": \"\", \"orientation\": \"v\", \"showlegend\": false, \"textposition\": \"auto\", \"x\": [\"Cash\", \"Portfolio Value Start\", \"Portfolio Value High\"], \"xaxis\": \"x\", \"y\": [3000.0, 2721.3371458144543, 3000.0], \"yaxis\": \"y\", \"type\": \"bar\"}], \"name\": \"2002\"}, {\"data\": [{\"alignmentgroup\": \"True\", \"hoverlabel\": {\"namelength\": 0}, \"hovertemplate\": \"Year=2003<br>Type of Investment=%{x}<br>Portfolio Value=%{y}\", \"ids\": [\"Cash\", \"Portfolio Value Start\", \"Portfolio Value High\"], \"legendgroup\": \"\", \"marker\": {\"color\": \"#636efa\"}, \"name\": \"\", \"offsetgroup\": \"\", \"orientation\": \"v\", \"showlegend\": false, \"textposition\": \"auto\", \"x\": [\"Cash\", \"Portfolio Value Start\", \"Portfolio Value High\"], \"xaxis\": \"x\", \"y\": [4000.0, 3179.1852239378554, 4000.0], \"yaxis\": \"y\", \"type\": \"bar\"}], \"name\": \"2003\"}, {\"data\": [{\"alignmentgroup\": \"True\", \"hoverlabel\": {\"namelength\": 0}, \"hovertemplate\": \"Year=2004<br>Type of Investment=%{x}<br>Portfolio Value=%{y}\", \"ids\": [\"Cash\", \"Portfolio Value Start\", \"Portfolio Value High\"], \"legendgroup\": \"\", \"marker\": {\"color\": \"#636efa\"}, \"name\": \"\", \"offsetgroup\": \"\", \"orientation\": \"v\", \"showlegend\": false, \"textposition\": \"auto\", \"x\": [\"Cash\", \"Portfolio Value Start\", \"Portfolio Value High\"], \"xaxis\": \"x\", \"y\": [5000.0, 4946.272628596442, 5000.0], \"yaxis\": \"y\", \"type\": \"bar\"}], \"name\": \"2004\"}, {\"data\": [{\"alignmentgroup\": \"True\", \"hoverlabel\": {\"namelength\": 0}, \"hovertemplate\": \"Year=2005<br>Type of Investment=%{x}<br>Portfolio Value=%{y}\", \"ids\": [\"Cash\", \"Portfolio Value Start\", \"Portfolio Value High\"], \"legendgroup\": \"\", \"marker\": {\"color\": \"#636efa\"}, \"name\": \"\", \"offsetgroup\": \"\", \"orientation\": \"v\", \"showlegend\": false, \"textposition\": \"auto\", \"x\": [\"Cash\", \"Portfolio Value Start\", \"Portfolio Value High\"], \"xaxis\": \"x\", \"y\": [6000.0, 6452.051725035687, 6000.0], \"yaxis\": \"y\", \"type\": \"bar\"}], \"name\": \"2005\"}, {\"data\": [{\"alignmentgroup\": \"True\", \"hoverlabel\": {\"namelength\": 0}, \"hovertemplate\": \"Year=2006<br>Type of Investment=%{x}<br>Portfolio Value=%{y}\", \"ids\": [\"Cash\", \"Portfolio Value Start\", \"Portfolio Value High\"], \"legendgroup\": \"\", \"marker\": {\"color\": \"#636efa\"}, \"name\": \"\", \"offsetgroup\": \"\", \"orientation\": \"v\", \"showlegend\": false, \"textposition\": \"auto\", \"x\": [\"Cash\", \"Portfolio Value Start\", \"Portfolio Value High\"], \"xaxis\": \"x\", \"y\": [7000.0, 7915.1462960621375, 7033.15310798041], \"yaxis\": \"y\", \"type\": \"bar\"}], \"name\": \"2006\"}, {\"data\": [{\"alignmentgroup\": \"True\", \"hoverlabel\": {\"namelength\": 0}, \"hovertemplate\": \"Year=2007<br>Type of Investment=%{x}<br>Portfolio Value=%{y}\", \"ids\": [\"Cash\", \"Portfolio Value Start\", \"Portfolio Value High\"], \"legendgroup\": \"\", \"marker\": {\"color\": \"#636efa\"}, \"name\": \"\", \"offsetgroup\": \"\", \"orientation\": \"v\", \"showlegend\": false, \"textposition\": \"auto\", \"x\": [\"Cash\", \"Portfolio Value Start\", \"Portfolio Value High\"], \"xaxis\": \"x\", \"y\": [8000.0, 9994.924654004793, 8823.588882740196], \"yaxis\": \"y\", \"type\": \"bar\"}], \"name\": \"2007\"}, {\"data\": [{\"alignmentgroup\": \"True\", \"hoverlabel\": {\"namelength\": 0}, \"hovertemplate\": \"Year=2008<br>Type of Investment=%{x}<br>Portfolio Value=%{y}\", \"ids\": [\"Cash\", \"Portfolio Value Start\", \"Portfolio Value High\"], \"legendgroup\": \"\", \"marker\": {\"color\": \"#636efa\"}, \"name\": \"\", \"offsetgroup\": \"\", \"orientation\": \"v\", \"showlegend\": false, \"textposition\": \"auto\", \"x\": [\"Cash\", \"Portfolio Value Start\", \"Portfolio Value High\"], \"xaxis\": \"x\", \"y\": [9000.0, 11435.704744619123, 9823.588882740196], \"yaxis\": \"y\", \"type\": \"bar\"}], \"name\": \"2008\"}, {\"data\": [{\"alignmentgroup\": \"True\", \"hoverlabel\": {\"namelength\": 0}, \"hovertemplate\": \"Year=2009<br>Type of Investment=%{x}<br>Portfolio Value=%{y}\", \"ids\": [\"Cash\", \"Portfolio Value Start\", \"Portfolio Value High\"], \"legendgroup\": \"\", \"marker\": {\"color\": \"#636efa\"}, \"name\": \"\", \"offsetgroup\": \"\", \"orientation\": \"v\", \"showlegend\": false, \"textposition\": \"auto\", \"x\": [\"Cash\", \"Portfolio Value Start\", \"Portfolio Value High\"], \"xaxis\": \"x\", \"y\": [10000.0, 8511.56028322869, 10823.588882740196], \"yaxis\": \"y\", \"type\": \"bar\"}], \"name\": \"2009\"}, {\"data\": [{\"alignmentgroup\": \"True\", \"hoverlabel\": {\"namelength\": 0}, \"hovertemplate\": \"Year=2010<br>Type of Investment=%{x}<br>Portfolio Value=%{y}\", \"ids\": [\"Cash\", \"Portfolio Value Start\", \"Portfolio Value High\"], \"legendgroup\": \"\", \"marker\": {\"color\": \"#636efa\"}, \"name\": \"\", \"offsetgroup\": \"\", \"orientation\": \"v\", \"showlegend\": false, \"textposition\": \"auto\", \"x\": [\"Cash\", \"Portfolio Value Start\", \"Portfolio Value High\"], \"xaxis\": \"x\", \"y\": [11000.0, 11616.887597110648, 11823.588882740196], \"yaxis\": \"y\", \"type\": \"bar\"}], \"name\": \"2010\"}, {\"data\": [{\"alignmentgroup\": \"True\", \"hoverlabel\": {\"namelength\": 0}, \"hovertemplate\": \"Year=2011<br>Type of Investment=%{x}<br>Portfolio Value=%{y}\", \"ids\": [\"Cash\", \"Portfolio Value Start\", \"Portfolio Value High\"], \"legendgroup\": \"\", \"marker\": {\"color\": \"#636efa\"}, \"name\": \"\", \"offsetgroup\": \"\", \"orientation\": \"v\", \"showlegend\": false, \"textposition\": \"auto\", \"x\": [\"Cash\", \"Portfolio Value Start\", \"Portfolio Value High\"], \"xaxis\": \"x\", \"y\": [12000.0, 14278.91554926506, 12823.588882740196], \"yaxis\": \"y\", \"type\": \"bar\"}], \"name\": \"2011\"}, {\"data\": [{\"alignmentgroup\": \"True\", \"hoverlabel\": {\"namelength\": 0}, \"hovertemplate\": \"Year=2012<br>Type of Investment=%{x}<br>Portfolio Value=%{y}\", \"ids\": [\"Cash\", \"Portfolio Value Start\", \"Portfolio Value High\"], \"legendgroup\": \"\", \"marker\": {\"color\": \"#636efa\"}, \"name\": \"\", \"offsetgroup\": \"\", \"orientation\": \"v\", \"showlegend\": false, \"textposition\": \"auto\", \"x\": [\"Cash\", \"Portfolio Value Start\", \"Portfolio Value High\"], \"xaxis\": \"x\", \"y\": [13000.0, 15630.11592468349, 14191.440332948752], \"yaxis\": \"y\", \"type\": \"bar\"}], \"name\": \"2012\"}, {\"data\": [{\"alignmentgroup\": \"True\", \"hoverlabel\": {\"namelength\": 0}, \"hovertemplate\": \"Year=2013<br>Type of Investment=%{x}<br>Portfolio Value=%{y}\", \"ids\": [\"Cash\", \"Portfolio Value Start\", \"Portfolio Value High\"], \"legendgroup\": \"\", \"marker\": {\"color\": \"#636efa\"}, \"name\": \"\", \"offsetgroup\": \"\", \"orientation\": \"v\", \"showlegend\": false, \"textposition\": \"auto\", \"x\": [\"Cash\", \"Portfolio Value Start\", \"Portfolio Value High\"], \"xaxis\": \"x\", \"y\": [14000.0, 19302.41277151769, 19386.87344754723], \"yaxis\": \"y\", \"type\": \"bar\"}], \"name\": \"2013\"}, {\"data\": [{\"alignmentgroup\": \"True\", \"hoverlabel\": {\"namelength\": 0}, \"hovertemplate\": \"Year=2014<br>Type of Investment=%{x}<br>Portfolio Value=%{y}\", \"ids\": [\"Cash\", \"Portfolio Value Start\", \"Portfolio Value High\"], \"legendgroup\": \"\", \"marker\": {\"color\": \"#636efa\"}, \"name\": \"\", \"offsetgroup\": \"\", \"orientation\": \"v\", \"showlegend\": false, \"textposition\": \"auto\", \"x\": [\"Cash\", \"Portfolio Value Start\", \"Portfolio Value High\"], \"xaxis\": \"x\", \"y\": [15000.0, 25661.75773275394, 23337.408882072472], \"yaxis\": \"y\", \"type\": \"bar\"}], \"name\": \"2014\"}, {\"data\": [{\"alignmentgroup\": \"True\", \"hoverlabel\": {\"namelength\": 0}, \"hovertemplate\": \"Year=2015<br>Type of Investment=%{x}<br>Portfolio Value=%{y}\", \"ids\": [\"Cash\", \"Portfolio Value Start\", \"Portfolio Value High\"], \"legendgroup\": \"\", \"marker\": {\"color\": \"#636efa\"}, \"name\": \"\", \"offsetgroup\": \"\", \"orientation\": \"v\", \"showlegend\": false, \"textposition\": \"auto\", \"x\": [\"Cash\", \"Portfolio Value Start\", \"Portfolio Value High\"], \"xaxis\": \"x\", \"y\": [16000.0, 30382.80807713659, 24992.367557293375], \"yaxis\": \"y\", \"type\": \"bar\"}], \"name\": \"2015\"}, {\"data\": [{\"alignmentgroup\": \"True\", \"hoverlabel\": {\"namelength\": 0}, \"hovertemplate\": \"Year=2016<br>Type of Investment=%{x}<br>Portfolio Value=%{y}\", \"ids\": [\"Cash\", \"Portfolio Value Start\", \"Portfolio Value High\"], \"legendgroup\": \"\", \"marker\": {\"color\": \"#636efa\"}, \"name\": \"\", \"offsetgroup\": \"\", \"orientation\": \"v\", \"showlegend\": false, \"textposition\": \"auto\", \"x\": [\"Cash\", \"Portfolio Value Start\", \"Portfolio Value High\"], \"xaxis\": \"x\", \"y\": [17000.0, 31344.080171538826, 28494.511748017903], \"yaxis\": \"y\", \"type\": \"bar\"}], \"name\": \"2016\"}, {\"data\": [{\"alignmentgroup\": \"True\", \"hoverlabel\": {\"namelength\": 0}, \"hovertemplate\": \"Year=2017<br>Type of Investment=%{x}<br>Portfolio Value=%{y}\", \"ids\": [\"Cash\", \"Portfolio Value Start\", \"Portfolio Value High\"], \"legendgroup\": \"\", \"marker\": {\"color\": \"#636efa\"}, \"name\": \"\", \"offsetgroup\": \"\", \"orientation\": \"v\", \"showlegend\": false, \"textposition\": \"auto\", \"x\": [\"Cash\", \"Portfolio Value Start\", \"Portfolio Value High\"], \"xaxis\": \"x\", \"y\": [18000.0, 36874.77697539171, 35407.81270323935], \"yaxis\": \"y\", \"type\": \"bar\"}], \"name\": \"2017\"}, {\"data\": [{\"alignmentgroup\": \"True\", \"hoverlabel\": {\"namelength\": 0}, \"hovertemplate\": \"Year=2018<br>Type of Investment=%{x}<br>Portfolio Value=%{y}\", \"ids\": [\"Cash\", \"Portfolio Value Start\", \"Portfolio Value High\"], \"legendgroup\": \"\", \"marker\": {\"color\": \"#636efa\"}, \"name\": \"\", \"offsetgroup\": \"\", \"orientation\": \"v\", \"showlegend\": false, \"textposition\": \"auto\", \"x\": [\"Cash\", \"Portfolio Value Start\", \"Portfolio Value High\"], \"xaxis\": \"x\", \"y\": [19000.0, 45856.64909672224, 40088.453876540814], \"yaxis\": \"y\", \"type\": \"bar\"}], \"name\": \"2018\"}, {\"data\": [{\"alignmentgroup\": \"True\", \"hoverlabel\": {\"namelength\": 0}, \"hovertemplate\": \"Year=2019<br>Type of Investment=%{x}<br>Portfolio Value=%{y}\", \"ids\": [\"Cash\", \"Portfolio Value Start\", \"Portfolio Value High\"], \"legendgroup\": \"\", \"marker\": {\"color\": \"#636efa\"}, \"name\": \"\", \"offsetgroup\": \"\", \"orientation\": \"v\", \"showlegend\": false, \"textposition\": \"auto\", \"x\": [\"Cash\", \"Portfolio Value Start\", \"Portfolio Value High\"], \"xaxis\": \"x\", \"y\": [20000.0, 44495.675580747826, 46399.57017579851], \"yaxis\": \"y\", \"type\": \"bar\"}], \"name\": \"2019\"}, {\"data\": [{\"alignmentgroup\": \"True\", \"hoverlabel\": {\"namelength\": 0}, \"hovertemplate\": \"Year=2020<br>Type of Investment=%{x}<br>Portfolio Value=%{y}\", \"ids\": [\"Cash\", \"Portfolio Value Start\", \"Portfolio Value High\"], \"legendgroup\": \"\", \"marker\": {\"color\": \"#636efa\"}, \"name\": \"\", \"offsetgroup\": \"\", \"orientation\": \"v\", \"showlegend\": false, \"textposition\": \"auto\", \"x\": [\"Cash\", \"Portfolio Value Start\", \"Portfolio Value High\"], \"xaxis\": \"x\", \"y\": [21000.0, 69030.80316121767, 54807.58731200772], \"yaxis\": \"y\", \"type\": \"bar\"}], \"name\": \"2020\"}]);\n",
              "                        }).then(function(){\n",
              "                            \n",
              "var gd = document.getElementById('87b37964-d5ad-4ddf-8152-b540c6a52bd6');\n",
              "var x = new MutationObserver(function (mutations, observer) {{\n",
              "        var display = window.getComputedStyle(gd).display;\n",
              "        if (!display || display === 'none') {{\n",
              "            console.log([gd, 'removed!']);\n",
              "            Plotly.purge(gd);\n",
              "            observer.disconnect();\n",
              "        }}\n",
              "}});\n",
              "\n",
              "// Listen for the removal of the full notebook cells\n",
              "var notebookContainer = gd.closest('#notebook-container');\n",
              "if (notebookContainer) {{\n",
              "    x.observe(notebookContainer, {childList: true});\n",
              "}}\n",
              "\n",
              "// Listen for the clearing of the current output cell\n",
              "var outputEl = gd.closest('.output');\n",
              "if (outputEl) {{\n",
              "    x.observe(outputEl, {childList: true});\n",
              "}}\n",
              "\n",
              "                        })\n",
              "                };\n",
              "                \n",
              "            </script>\n",
              "        </div>\n",
              "</body>\n",
              "</html>"
            ]
          },
          "metadata": {
            "tags": []
          }
        }
      ]
    }
  ]
}