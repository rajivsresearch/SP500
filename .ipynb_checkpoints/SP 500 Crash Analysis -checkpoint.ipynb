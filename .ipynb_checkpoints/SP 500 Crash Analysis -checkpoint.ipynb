{
 "cells": [
  {
   "cell_type": "code",
   "execution_count": 1,
   "metadata": {
    "collapsed": true
   },
   "outputs": [],
   "source": [
    "import pandas as pd\n",
    "import matplotlib.pyplot as plt\n",
    "import numpy as np"
   ]
  },
  {
   "cell_type": "code",
   "execution_count": 4,
   "metadata": {
    "collapsed": true
   },
   "outputs": [],
   "source": [
    "df1 = pd.read_csv(\"SP5001.csv\")\n",
    "df2 = pd.read_csv(\"SP5002.csv\")\n",
    "df3 = pd.read_csv(\"SP5003.csv\")"
   ]
  },
  {
   "cell_type": "code",
   "execution_count": 5,
   "metadata": {},
   "outputs": [
    {
     "name": "stdout",
     "output_type": "stream",
     "text": [
      "DF1 :  (15120, 7)\n",
      "DF2 :  (190, 7)\n",
      "DF3 :  (119, 7)\n"
     ]
    }
   ],
   "source": [
    "print(\"DF1 : \", df1.shape)\n",
    "print(\"DF2 : \", df2.shape)\n",
    "print(\"DF3 : \", df3.shape)"
   ]
  },
  {
   "cell_type": "code",
   "execution_count": 9,
   "metadata": {},
   "outputs": [],
   "source": [
    "df = pd.concat([df1,df2,df3])"
   ]
  },
  {
   "cell_type": "code",
   "execution_count": 10,
   "metadata": {},
   "outputs": [
    {
     "data": {
      "text/plain": [
       "(15429, 7)"
      ]
     },
     "execution_count": 10,
     "metadata": {},
     "output_type": "execute_result"
    }
   ],
   "source": [
    "df.shape"
   ]
  },
  {
   "cell_type": "code",
   "execution_count": 17,
   "metadata": {},
   "outputs": [
    {
     "data": {
      "text/html": [
       "<div>\n",
       "<style>\n",
       "    .dataframe thead tr:only-child th {\n",
       "        text-align: right;\n",
       "    }\n",
       "\n",
       "    .dataframe thead th {\n",
       "        text-align: left;\n",
       "    }\n",
       "\n",
       "    .dataframe tbody tr th {\n",
       "        vertical-align: top;\n",
       "    }\n",
       "</style>\n",
       "<table border=\"1\" class=\"dataframe\">\n",
       "  <thead>\n",
       "    <tr style=\"text-align: right;\">\n",
       "      <th></th>\n",
       "      <th>Adj Close</th>\n",
       "      <th>Close</th>\n",
       "      <th>High</th>\n",
       "      <th>Low</th>\n",
       "      <th>Open</th>\n",
       "      <th>Volume</th>\n",
       "    </tr>\n",
       "    <tr>\n",
       "      <th>Date</th>\n",
       "      <th></th>\n",
       "      <th></th>\n",
       "      <th></th>\n",
       "      <th></th>\n",
       "      <th></th>\n",
       "      <th></th>\n",
       "    </tr>\n",
       "  </thead>\n",
       "  <tbody>\n",
       "    <tr>\n",
       "      <th>2017-03-24</th>\n",
       "      <td>2343.979980</td>\n",
       "      <td>2343.979980</td>\n",
       "      <td>2356.219971</td>\n",
       "      <td>2335.739990</td>\n",
       "      <td>2350.419922</td>\n",
       "      <td>2975130000</td>\n",
       "    </tr>\n",
       "    <tr>\n",
       "      <th>2017-03-23</th>\n",
       "      <td>2345.959961</td>\n",
       "      <td>2345.959961</td>\n",
       "      <td>2358.919922</td>\n",
       "      <td>2342.129883</td>\n",
       "      <td>2345.969971</td>\n",
       "      <td>3260600000</td>\n",
       "    </tr>\n",
       "    <tr>\n",
       "      <th>2017-03-22</th>\n",
       "      <td>2348.449951</td>\n",
       "      <td>2348.449951</td>\n",
       "      <td>2351.810059</td>\n",
       "      <td>2336.449951</td>\n",
       "      <td>2343.000000</td>\n",
       "      <td>3572730000</td>\n",
       "    </tr>\n",
       "    <tr>\n",
       "      <th>2017-03-21</th>\n",
       "      <td>2344.020020</td>\n",
       "      <td>2344.020020</td>\n",
       "      <td>2381.929932</td>\n",
       "      <td>2341.899902</td>\n",
       "      <td>2379.320068</td>\n",
       "      <td>4265590000</td>\n",
       "    </tr>\n",
       "    <tr>\n",
       "      <th>2017-03-20</th>\n",
       "      <td>2373.469971</td>\n",
       "      <td>2373.469971</td>\n",
       "      <td>2379.550049</td>\n",
       "      <td>2369.659912</td>\n",
       "      <td>2378.239990</td>\n",
       "      <td>3054930000</td>\n",
       "    </tr>\n",
       "  </tbody>\n",
       "</table>\n",
       "</div>"
      ],
      "text/plain": [
       "              Adj Close        Close         High          Low         Open  \\\n",
       "Date                                                                          \n",
       "2017-03-24  2343.979980  2343.979980  2356.219971  2335.739990  2350.419922   \n",
       "2017-03-23  2345.959961  2345.959961  2358.919922  2342.129883  2345.969971   \n",
       "2017-03-22  2348.449951  2348.449951  2351.810059  2336.449951  2343.000000   \n",
       "2017-03-21  2344.020020  2344.020020  2381.929932  2341.899902  2379.320068   \n",
       "2017-03-20  2373.469971  2373.469971  2379.550049  2369.659912  2378.239990   \n",
       "\n",
       "                Volume  \n",
       "Date                    \n",
       "2017-03-24  2975130000  \n",
       "2017-03-23  3260600000  \n",
       "2017-03-22  3572730000  \n",
       "2017-03-21  4265590000  \n",
       "2017-03-20  3054930000  "
      ]
     },
     "execution_count": 17,
     "metadata": {},
     "output_type": "execute_result"
    }
   ],
   "source": [
    "df.head()"
   ]
  },
  {
   "cell_type": "code",
   "execution_count": 16,
   "metadata": {},
   "outputs": [
    {
     "name": "stdout",
     "output_type": "stream",
     "text": [
      "<class 'pandas.core.frame.DataFrame'>\n",
      "DatetimeIndex: 15429 entries, 2017-03-24 to 2018-06-15\n",
      "Data columns (total 6 columns):\n",
      "Adj Close    15429 non-null float64\n",
      "Close        15429 non-null float64\n",
      "High         15429 non-null float64\n",
      "Low          15429 non-null float64\n",
      "Open         15429 non-null float64\n",
      "Volume       15429 non-null int64\n",
      "dtypes: float64(5), int64(1)\n",
      "memory usage: 843.8 KB\n"
     ]
    }
   ],
   "source": [
    "df.info()"
   ]
  },
  {
   "cell_type": "code",
   "execution_count": 13,
   "metadata": {},
   "outputs": [
    {
     "name": "stderr",
     "output_type": "stream",
     "text": [
      "C:\\Users\\Rajiv\\Anaconda3\\lib\\site-packages\\pandas\\core\\internals.py:3224: FutureWarning: Passing in 'datetime64' dtype with no frequency is deprecated and will raise in a future version. Please pass in 'datetime64[ns]' instead.\n",
      "  return self.apply('astype', dtype=dtype, **kwargs)\n"
     ]
    }
   ],
   "source": [
    "df.loc[:,\"Date\"] = df.loc[:,\"Date\"].astype(\"datetime64\")"
   ]
  },
  {
   "cell_type": "code",
   "execution_count": 15,
   "metadata": {
    "collapsed": true
   },
   "outputs": [],
   "source": [
    "df.set_index(\"Date\", inplace=True)"
   ]
  },
  {
   "cell_type": "code",
   "execution_count": 18,
   "metadata": {},
   "outputs": [
    {
     "data": {
      "text/html": [
       "<div>\n",
       "<style>\n",
       "    .dataframe thead tr:only-child th {\n",
       "        text-align: right;\n",
       "    }\n",
       "\n",
       "    .dataframe thead th {\n",
       "        text-align: left;\n",
       "    }\n",
       "\n",
       "    .dataframe tbody tr th {\n",
       "        vertical-align: top;\n",
       "    }\n",
       "</style>\n",
       "<table border=\"1\" class=\"dataframe\">\n",
       "  <thead>\n",
       "    <tr style=\"text-align: right;\">\n",
       "      <th></th>\n",
       "      <th>Adj Close</th>\n",
       "      <th>Close</th>\n",
       "      <th>High</th>\n",
       "      <th>Low</th>\n",
       "      <th>Open</th>\n",
       "      <th>Volume</th>\n",
       "    </tr>\n",
       "  </thead>\n",
       "  <tbody>\n",
       "    <tr>\n",
       "      <th>count</th>\n",
       "      <td>15429.000000</td>\n",
       "      <td>15429.000000</td>\n",
       "      <td>15429.000000</td>\n",
       "      <td>15429.000000</td>\n",
       "      <td>15429.000000</td>\n",
       "      <td>1.542900e+04</td>\n",
       "    </tr>\n",
       "    <tr>\n",
       "      <th>mean</th>\n",
       "      <td>612.084211</td>\n",
       "      <td>612.084211</td>\n",
       "      <td>615.598410</td>\n",
       "      <td>608.079071</td>\n",
       "      <td>611.940726</td>\n",
       "      <td>1.004063e+09</td>\n",
       "    </tr>\n",
       "    <tr>\n",
       "      <th>std</th>\n",
       "      <td>660.465065</td>\n",
       "      <td>660.465065</td>\n",
       "      <td>663.678188</td>\n",
       "      <td>656.751411</td>\n",
       "      <td>660.353472</td>\n",
       "      <td>1.588156e+09</td>\n",
       "    </tr>\n",
       "    <tr>\n",
       "      <th>min</th>\n",
       "      <td>38.980000</td>\n",
       "      <td>38.980000</td>\n",
       "      <td>38.980000</td>\n",
       "      <td>38.980000</td>\n",
       "      <td>38.980000</td>\n",
       "      <td>1.260000e+06</td>\n",
       "    </tr>\n",
       "    <tr>\n",
       "      <th>25%</th>\n",
       "      <td>95.940002</td>\n",
       "      <td>95.940002</td>\n",
       "      <td>96.690002</td>\n",
       "      <td>95.080002</td>\n",
       "      <td>95.940002</td>\n",
       "      <td>1.452000e+07</td>\n",
       "    </tr>\n",
       "    <tr>\n",
       "      <th>50%</th>\n",
       "      <td>269.040009</td>\n",
       "      <td>269.040009</td>\n",
       "      <td>270.399994</td>\n",
       "      <td>267.420013</td>\n",
       "      <td>268.989990</td>\n",
       "      <td>1.460900e+08</td>\n",
       "    </tr>\n",
       "    <tr>\n",
       "      <th>75%</th>\n",
       "      <td>1129.439941</td>\n",
       "      <td>1129.439941</td>\n",
       "      <td>1137.469971</td>\n",
       "      <td>1122.270020</td>\n",
       "      <td>1129.300049</td>\n",
       "      <td>1.373300e+09</td>\n",
       "    </tr>\n",
       "    <tr>\n",
       "      <th>max</th>\n",
       "      <td>2872.870117</td>\n",
       "      <td>2872.870117</td>\n",
       "      <td>2872.870117</td>\n",
       "      <td>2851.479980</td>\n",
       "      <td>2867.229980</td>\n",
       "      <td>1.145623e+10</td>\n",
       "    </tr>\n",
       "  </tbody>\n",
       "</table>\n",
       "</div>"
      ],
      "text/plain": [
       "          Adj Close         Close          High           Low          Open  \\\n",
       "count  15429.000000  15429.000000  15429.000000  15429.000000  15429.000000   \n",
       "mean     612.084211    612.084211    615.598410    608.079071    611.940726   \n",
       "std      660.465065    660.465065    663.678188    656.751411    660.353472   \n",
       "min       38.980000     38.980000     38.980000     38.980000     38.980000   \n",
       "25%       95.940002     95.940002     96.690002     95.080002     95.940002   \n",
       "50%      269.040009    269.040009    270.399994    267.420013    268.989990   \n",
       "75%     1129.439941   1129.439941   1137.469971   1122.270020   1129.300049   \n",
       "max     2872.870117   2872.870117   2872.870117   2851.479980   2867.229980   \n",
       "\n",
       "             Volume  \n",
       "count  1.542900e+04  \n",
       "mean   1.004063e+09  \n",
       "std    1.588156e+09  \n",
       "min    1.260000e+06  \n",
       "25%    1.452000e+07  \n",
       "50%    1.460900e+08  \n",
       "75%    1.373300e+09  \n",
       "max    1.145623e+10  "
      ]
     },
     "execution_count": 18,
     "metadata": {},
     "output_type": "execute_result"
    }
   ],
   "source": [
    "df.describe()"
   ]
  },
  {
   "cell_type": "code",
   "execution_count": 25,
   "metadata": {},
   "outputs": [
    {
     "data": {
      "text/plain": [
       "Timestamp('2018-06-15 00:00:00')"
      ]
     },
     "execution_count": 25,
     "metadata": {},
     "output_type": "execute_result"
    }
   ],
   "source": [
    "df.index.max()"
   ]
  },
  {
   "cell_type": "code",
   "execution_count": 31,
   "metadata": {},
   "outputs": [],
   "source": [
    "xticks = str(df.index.year.values)"
   ]
  },
  {
   "cell_type": "code",
   "execution_count": 32,
   "metadata": {},
   "outputs": [
    {
     "data": {
      "text/plain": [
       "'[2017 2017 2017 ..., 2018 2018 2018]'"
      ]
     },
     "execution_count": 32,
     "metadata": {},
     "output_type": "execute_result"
    }
   ],
   "source": [
    "xticks"
   ]
  },
  {
   "cell_type": "code",
   "execution_count": 33,
   "metadata": {},
   "outputs": [
    {
     "data": {
      "text/plain": [
       "<matplotlib.figure.Figure at 0x21796085a90>"
      ]
     },
     "metadata": {},
     "output_type": "display_data"
    },
    {
     "data": {
      "image/png": "[encoded data removed]",
      "text/plain": [
       "<matplotlib.figure.Figure at 0x217961a4550>"
      ]
     },
     "metadata": {},
     "output_type": "display_data"
    }
   ],
   "source": [
    "plt.clf()\n",
    "fig = plt.figure(figsize=(20,10))\n",
    "ax = plt.subplot(1,1,1)\n",
    "ax.set_title(\"Closing Price\")\n",
    "ax.set_xticks = xticks\n",
    "\n",
    "df.plot(x=df.index, y='Close', ax=ax)\n",
    "plt.show()"
   ]
  },
  {
   "cell_type": "code",
   "execution_count": 38,
   "metadata": {},
   "outputs": [
    {
     "data": {
      "text/html": [
       "<div>\n",
       "<style>\n",
       "    .dataframe thead tr:only-child th {\n",
       "        text-align: right;\n",
       "    }\n",
       "\n",
       "    .dataframe thead th {\n",
       "        text-align: left;\n",
       "    }\n",
       "\n",
       "    .dataframe tbody tr th {\n",
       "        vertical-align: top;\n",
       "    }\n",
       "</style>\n",
       "<table border=\"1\" class=\"dataframe\">\n",
       "  <thead>\n",
       "    <tr style=\"text-align: right;\">\n",
       "      <th></th>\n",
       "      <th>Adj Close</th>\n",
       "      <th>Close</th>\n",
       "      <th>High</th>\n",
       "      <th>Low</th>\n",
       "      <th>Open</th>\n",
       "      <th>Volume</th>\n",
       "    </tr>\n",
       "    <tr>\n",
       "      <th>Date</th>\n",
       "      <th></th>\n",
       "      <th></th>\n",
       "      <th></th>\n",
       "      <th></th>\n",
       "      <th></th>\n",
       "      <th></th>\n",
       "    </tr>\n",
       "  </thead>\n",
       "  <tbody>\n",
       "    <tr>\n",
       "      <th>1957-03-04</th>\n",
       "      <td>44.060001</td>\n",
       "      <td>44.060001</td>\n",
       "      <td>44.060001</td>\n",
       "      <td>44.060001</td>\n",
       "      <td>44.060001</td>\n",
       "      <td>1890000</td>\n",
       "    </tr>\n",
       "    <tr>\n",
       "      <th>1957-03-05</th>\n",
       "      <td>44.220001</td>\n",
       "      <td>44.220001</td>\n",
       "      <td>44.220001</td>\n",
       "      <td>44.220001</td>\n",
       "      <td>44.220001</td>\n",
       "      <td>1860000</td>\n",
       "    </tr>\n",
       "    <tr>\n",
       "      <th>1957-03-06</th>\n",
       "      <td>44.230000</td>\n",
       "      <td>44.230000</td>\n",
       "      <td>44.230000</td>\n",
       "      <td>44.230000</td>\n",
       "      <td>44.230000</td>\n",
       "      <td>1840000</td>\n",
       "    </tr>\n",
       "    <tr>\n",
       "      <th>1957-03-07</th>\n",
       "      <td>44.209999</td>\n",
       "      <td>44.209999</td>\n",
       "      <td>44.209999</td>\n",
       "      <td>44.209999</td>\n",
       "      <td>44.209999</td>\n",
       "      <td>1830000</td>\n",
       "    </tr>\n",
       "    <tr>\n",
       "      <th>1957-03-08</th>\n",
       "      <td>44.070000</td>\n",
       "      <td>44.070000</td>\n",
       "      <td>44.070000</td>\n",
       "      <td>44.070000</td>\n",
       "      <td>44.070000</td>\n",
       "      <td>1630000</td>\n",
       "    </tr>\n",
       "  </tbody>\n",
       "</table>\n",
       "</div>"
      ],
      "text/plain": [
       "            Adj Close      Close       High        Low       Open   Volume\n",
       "Date                                                                      \n",
       "1957-03-04  44.060001  44.060001  44.060001  44.060001  44.060001  1890000\n",
       "1957-03-05  44.220001  44.220001  44.220001  44.220001  44.220001  1860000\n",
       "1957-03-06  44.230000  44.230000  44.230000  44.230000  44.230000  1840000\n",
       "1957-03-07  44.209999  44.209999  44.209999  44.209999  44.209999  1830000\n",
       "1957-03-08  44.070000  44.070000  44.070000  44.070000  44.070000  1630000"
      ]
     },
     "execution_count": 38,
     "metadata": {},
     "output_type": "execute_result"
    }
   ],
   "source": [
    "df.head()"
   ]
  },
  {
   "cell_type": "code",
   "execution_count": 37,
   "metadata": {},
   "outputs": [],
   "source": [
    "df.sort_index(inplace=True)"
   ]
  },
  {
   "cell_type": "code",
   "execution_count": 40,
   "metadata": {},
   "outputs": [],
   "source": [
    "dates = df.index.values"
   ]
  },
  {
   "cell_type": "code",
   "execution_count": 41,
   "metadata": {},
   "outputs": [
    {
     "data": {
      "text/plain": [
       "range(1, 2)"
      ]
     },
     "execution_count": 41,
     "metadata": {},
     "output_type": "execute_result"
    }
   ],
   "source": [
    "range(1,2)"
   ]
  },
  {
   "cell_type": "code",
   "execution_count": 45,
   "metadata": {},
   "outputs": [],
   "source": [
    "roi = [0.00]\n",
    "for i in range(1,len(df)):\n",
    "    curr_close = df.iloc[i,1]\n",
    "    prev_close = df.iloc[i-1,1]\n",
    "    ret = (prev_close - curr_close)/prev_close\n",
    "    roi.append(ret)    "
   ]
  },
  {
   "cell_type": "code",
   "execution_count": 47,
   "metadata": {},
   "outputs": [],
   "source": [
    "df[\"DailyROI\"] = roi"
   ]
  },
  {
   "cell_type": "code",
   "execution_count": 48,
   "metadata": {},
   "outputs": [
    {
     "data": {
      "text/plain": [
       "count    15429.000000\n",
       "mean        -0.000317\n",
       "std          0.009838\n",
       "min         -0.115800\n",
       "25%         -0.004984\n",
       "50%         -0.000433\n",
       "75%          0.004130\n",
       "max          0.204669\n",
       "Name: DailyROI, dtype: float64"
      ]
     },
     "execution_count": 48,
     "metadata": {},
     "output_type": "execute_result"
    }
   ],
   "source": [
    "df[\"DailyROI\"].describe()"
   ]
  },
  {
   "cell_type": "code",
   "execution_count": 49,
   "metadata": {},
   "outputs": [
    {
     "data": {
      "text/html": [
       "<div>\n",
       "<style>\n",
       "    .dataframe thead tr:only-child th {\n",
       "        text-align: right;\n",
       "    }\n",
       "\n",
       "    .dataframe thead th {\n",
       "        text-align: left;\n",
       "    }\n",
       "\n",
       "    .dataframe tbody tr th {\n",
       "        vertical-align: top;\n",
       "    }\n",
       "</style>\n",
       "<table border=\"1\" class=\"dataframe\">\n",
       "  <thead>\n",
       "    <tr style=\"text-align: right;\">\n",
       "      <th></th>\n",
       "      <th>Adj Close</th>\n",
       "      <th>Close</th>\n",
       "      <th>High</th>\n",
       "      <th>Low</th>\n",
       "      <th>Open</th>\n",
       "      <th>Volume</th>\n",
       "      <th>DailyROI</th>\n",
       "    </tr>\n",
       "    <tr>\n",
       "      <th>Date</th>\n",
       "      <th></th>\n",
       "      <th></th>\n",
       "      <th></th>\n",
       "      <th></th>\n",
       "      <th></th>\n",
       "      <th></th>\n",
       "      <th></th>\n",
       "    </tr>\n",
       "  </thead>\n",
       "  <tbody>\n",
       "    <tr>\n",
       "      <th>1957-03-04</th>\n",
       "      <td>44.060001</td>\n",
       "      <td>44.060001</td>\n",
       "      <td>44.060001</td>\n",
       "      <td>44.060001</td>\n",
       "      <td>44.060001</td>\n",
       "      <td>1890000</td>\n",
       "      <td>0.000000</td>\n",
       "    </tr>\n",
       "    <tr>\n",
       "      <th>1957-03-05</th>\n",
       "      <td>44.220001</td>\n",
       "      <td>44.220001</td>\n",
       "      <td>44.220001</td>\n",
       "      <td>44.220001</td>\n",
       "      <td>44.220001</td>\n",
       "      <td>1860000</td>\n",
       "      <td>-0.003631</td>\n",
       "    </tr>\n",
       "    <tr>\n",
       "      <th>1957-03-06</th>\n",
       "      <td>44.230000</td>\n",
       "      <td>44.230000</td>\n",
       "      <td>44.230000</td>\n",
       "      <td>44.230000</td>\n",
       "      <td>44.230000</td>\n",
       "      <td>1840000</td>\n",
       "      <td>-0.000226</td>\n",
       "    </tr>\n",
       "    <tr>\n",
       "      <th>1957-03-07</th>\n",
       "      <td>44.209999</td>\n",
       "      <td>44.209999</td>\n",
       "      <td>44.209999</td>\n",
       "      <td>44.209999</td>\n",
       "      <td>44.209999</td>\n",
       "      <td>1830000</td>\n",
       "      <td>0.000452</td>\n",
       "    </tr>\n",
       "    <tr>\n",
       "      <th>1957-03-08</th>\n",
       "      <td>44.070000</td>\n",
       "      <td>44.070000</td>\n",
       "      <td>44.070000</td>\n",
       "      <td>44.070000</td>\n",
       "      <td>44.070000</td>\n",
       "      <td>1630000</td>\n",
       "      <td>0.003167</td>\n",
       "    </tr>\n",
       "  </tbody>\n",
       "</table>\n",
       "</div>"
      ],
      "text/plain": [
       "            Adj Close      Close       High        Low       Open   Volume  \\\n",
       "Date                                                                         \n",
       "1957-03-04  44.060001  44.060001  44.060001  44.060001  44.060001  1890000   \n",
       "1957-03-05  44.220001  44.220001  44.220001  44.220001  44.220001  1860000   \n",
       "1957-03-06  44.230000  44.230000  44.230000  44.230000  44.230000  1840000   \n",
       "1957-03-07  44.209999  44.209999  44.209999  44.209999  44.209999  1830000   \n",
       "1957-03-08  44.070000  44.070000  44.070000  44.070000  44.070000  1630000   \n",
       "\n",
       "            DailyROI  \n",
       "Date                  \n",
       "1957-03-04  0.000000  \n",
       "1957-03-05 -0.003631  \n",
       "1957-03-06 -0.000226  \n",
       "1957-03-07  0.000452  \n",
       "1957-03-08  0.003167  "
      ]
     },
     "execution_count": 49,
     "metadata": {},
     "output_type": "execute_result"
    }
   ],
   "source": [
    "df.head()"
   ]
  },
  {
   "cell_type": "code",
   "execution_count": 52,
   "metadata": {},
   "outputs": [
    {
     "data": {
      "text/plain": [
       "array([[<matplotlib.axes._subplots.AxesSubplot object at 0x0000021795E67C88>]], dtype=object)"
      ]
     },
     "execution_count": 52,
     "metadata": {},
     "output_type": "execute_result"
    }
   ],
   "source": [
    "plt.figure(figsize=(20,20))\n",
    "df.hist(column=\"DailyROI\", bins=40)"
   ]
  },
  {
   "cell_type": "code",
   "execution_count": 53,
   "metadata": {},
   "outputs": [
    {
     "data": {
      "text/plain": [
       "<matplotlib.figure.Figure at 0x217960f3518>"
      ]
     },
     "metadata": {},
     "output_type": "display_data"
    },
    {
     "data": {
      "image/png": "[encoded data removed]",
      "text/plain": [
       "<matplotlib.figure.Figure at 0x217960f3438>"
      ]
     },
     "metadata": {},
     "output_type": "display_data"
    }
   ],
   "source": [
    "plt.show()"
   ]
  },
  {
   "cell_type": "code",
   "execution_count": 57,
   "metadata": {},
   "outputs": [
    {
     "data": {
      "text/plain": [
       "(-0.0504, -0.0443]         10\n",
       "(-0.0443, -0.0394]         19\n",
       "(-0.0394, -0.0345]         28\n",
       "(-0.0345, -0.0296]         31\n",
       "(-0.0296, -0.0246]         82\n",
       "(-0.0246, -0.0197]        176\n",
       "(-0.0197, -0.0148]        407\n",
       "(-0.0148, -0.00987]       924\n",
       "(-0.00987, -0.00494]     2202\n",
       "(-0.00494, -1.93e-05]    4248\n",
       "(-1.93e-05, 0.0049]      3826\n",
       "(0.0049, 0.00983]        1851\n",
       "(0.00983, 0.0148]         838\n",
       "(0.0148, 0.0197]          409\n",
       "(0.0197, 0.0246]          171\n",
       "(0.0246, 0.0295]           85\n",
       "(0.0295, 0.0344]           41\n",
       "(0.0344, 0.0394]           21\n",
       "(0.0394, 0.0443]           12\n",
       "(0.0443, 0.0492]            9\n",
       "Name: DailyROI, dtype: int64"
      ]
     },
     "execution_count": 57,
     "metadata": {},
     "output_type": "execute_result"
    }
   ],
   "source": [
    "pd.value_counts(df.loc[((df[\"DailyROI\"] >= -0.05) & (df[\"DailyROI\"] <= 0.05)),\"DailyROI\"],bins=20, sort=False)"
   ]
  },
  {
   "cell_type": "code",
   "execution_count": null,
   "metadata": {
    "collapsed": true
   },
   "outputs": [],
   "source": []
  }
 ],
 "metadata": {
  "kernelspec": {
   "display_name": "Python 3",
   "language": "python",
   "name": "python3"
  },
  "language_info": {
   "codemirror_mode": {
    "name": "ipython",
    "version": 3
   },
   "file_extension": ".py",
   "mimetype": "text/x-python",
   "name": "python",
   "nbconvert_exporter": "python",
   "pygments_lexer": "ipython3",
   "version": "3.6.1"
  }
 },
 "nbformat": 4,
 "nbformat_minor": 2
}
